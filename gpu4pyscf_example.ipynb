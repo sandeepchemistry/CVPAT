{
  "nbformat": 4,
  "nbformat_minor": 0,
  "metadata": {
    "colab": {
      "provenance": [],
      "gpuType": "T4",
      "include_colab_link": true
    },
    "kernelspec": {
      "name": "python3",
      "display_name": "Python 3"
    },
    "language_info": {
      "name": "python"
    },
    "accelerator": "GPU"
  },
  "cells": [
    {
      "cell_type": "markdown",
      "metadata": {
        "id": "view-in-github",
        "colab_type": "text"
      },
      "source": [
        "<a href=\"https://colab.research.google.com/github/sandeepchemistry/CVPAT/blob/master/gpu4pyscf_example.ipynb\" target=\"_parent\"><img src=\"https://colab.research.google.com/assets/colab-badge.svg\" alt=\"Open In Colab\"/></a>"
      ]
    },
    {
      "cell_type": "code",
      "execution_count": null,
      "metadata": {
        "colab": {
          "base_uri": "https://localhost:8080/"
        },
        "id": "GwP5iPyRA3uA",
        "outputId": "425689b7-42fc-4329-86d7-a9fa4efc6ec6"
      },
      "outputs": [
        {
          "output_type": "stream",
          "name": "stdout",
          "text": [
            "Wed Nov 22 17:40:16 2023       \n",
            "+-----------------------------------------------------------------------------+\n",
            "| NVIDIA-SMI 525.105.17   Driver Version: 525.105.17   CUDA Version: 12.0     |\n",
            "|-------------------------------+----------------------+----------------------+\n",
            "| GPU  Name        Persistence-M| Bus-Id        Disp.A | Volatile Uncorr. ECC |\n",
            "| Fan  Temp  Perf  Pwr:Usage/Cap|         Memory-Usage | GPU-Util  Compute M. |\n",
            "|                               |                      |               MIG M. |\n",
            "|===============================+======================+======================|\n",
            "|   0  Tesla T4            Off  | 00000000:00:04.0 Off |                    0 |\n",
            "| N/A   39C    P8     9W /  70W |      0MiB / 15360MiB |      0%      Default |\n",
            "|                               |                      |                  N/A |\n",
            "+-------------------------------+----------------------+----------------------+\n",
            "                                                                               \n",
            "+-----------------------------------------------------------------------------+\n",
            "| Processes:                                                                  |\n",
            "|  GPU   GI   CI        PID   Type   Process name                  GPU Memory |\n",
            "|        ID   ID                                                   Usage      |\n",
            "|=============================================================================|\n",
            "|  No running processes found                                                 |\n",
            "+-----------------------------------------------------------------------------+\n",
            "nvcc: NVIDIA (R) Cuda compiler driver\n",
            "Copyright (c) 2005-2022 NVIDIA Corporation\n",
            "Built on Wed_Sep_21_10:33:58_PDT_2022\n",
            "Cuda compilation tools, release 11.8, V11.8.89\n",
            "Build cuda_11.8.r11.8/compiler.31833905_0\n"
          ]
        }
      ],
      "source": [
        "!nvidia-smi\n",
        "!nvcc --version"
      ]
    },
    {
      "cell_type": "code",
      "source": [
        "!pip3 install gpu4pyscf-cuda11x"
      ],
      "metadata": {
        "colab": {
          "base_uri": "https://localhost:8080/"
        },
        "id": "5gS016JABHeF",
        "outputId": "ab752b3d-232c-4c9b-a3a5-fd8a692590f2"
      },
      "execution_count": null,
      "outputs": [
        {
          "output_type": "stream",
          "name": "stdout",
          "text": [
            "Collecting gpu4pyscf-cuda11x\n",
            "  Downloading gpu4pyscf_cuda11x-0.6.9-py3-none-manylinux_2_17_x86_64.manylinux2014_x86_64.whl (61.1 MB)\n",
            "\u001b[2K     \u001b[90m━━━━━━━━━━━━━━━━━━━━━━━━━━━━━━━━━━━━━━━━\u001b[0m \u001b[32m61.1/61.1 MB\u001b[0m \u001b[31m11.7 MB/s\u001b[0m eta \u001b[36m0:00:00\u001b[0m\n",
            "\u001b[?25hCollecting pyscf>=2.4.0 (from gpu4pyscf-cuda11x)\n",
            "  Downloading pyscf-2.4.0-py3-none-manylinux_2_17_x86_64.manylinux2014_x86_64.whl (47.3 MB)\n",
            "\u001b[2K     \u001b[90m━━━━━━━━━━━━━━━━━━━━━━━━━━━━━━━━━━━━━━━━\u001b[0m \u001b[32m47.3/47.3 MB\u001b[0m \u001b[31m14.1 MB/s\u001b[0m eta \u001b[36m0:00:00\u001b[0m\n",
            "\u001b[?25hCollecting cupy-cuda11x>=12.0 (from gpu4pyscf-cuda11x)\n",
            "  Downloading cupy_cuda11x-12.2.0-cp310-cp310-manylinux2014_x86_64.whl (89.6 MB)\n",
            "\u001b[2K     \u001b[90m━━━━━━━━━━━━━━━━━━━━━━━━━━━━━━━━━━━━━━━━\u001b[0m \u001b[32m89.6/89.6 MB\u001b[0m \u001b[31m8.4 MB/s\u001b[0m eta \u001b[36m0:00:00\u001b[0m\n",
            "\u001b[?25hCollecting dftd3==0.7.0 (from gpu4pyscf-cuda11x)\n",
            "  Downloading dftd3-0.7.0-cp310-cp310-manylinux_2_12_x86_64.manylinux2010_x86_64.whl (3.0 MB)\n",
            "\u001b[2K     \u001b[90m━━━━━━━━━━━━━━━━━━━━━━━━━━━━━━━━━━━━━━━━\u001b[0m \u001b[32m3.0/3.0 MB\u001b[0m \u001b[31m72.2 MB/s\u001b[0m eta \u001b[36m0:00:00\u001b[0m\n",
            "\u001b[?25hCollecting dftd4==3.5.0 (from gpu4pyscf-cuda11x)\n",
            "  Downloading dftd4-3.5.0-cp310-cp310-manylinux_2_12_x86_64.manylinux2010_x86_64.whl (15.2 MB)\n",
            "\u001b[2K     \u001b[90m━━━━━━━━━━━━━━━━━━━━━━━━━━━━━━━━━━━━━━━━\u001b[0m \u001b[32m15.2/15.2 MB\u001b[0m \u001b[31m48.3 MB/s\u001b[0m eta \u001b[36m0:00:00\u001b[0m\n",
            "\u001b[?25hCollecting geometric (from gpu4pyscf-cuda11x)\n",
            "  Downloading geometric-1.0.1.tar.gz (429 kB)\n",
            "\u001b[2K     \u001b[90m━━━━━━━━━━━━━━━━━━━━━━━━━━━━━━━━━━━━━━━━\u001b[0m \u001b[32m429.1/429.1 kB\u001b[0m \u001b[31m39.0 MB/s\u001b[0m eta \u001b[36m0:00:00\u001b[0m\n",
            "\u001b[?25h  Preparing metadata (setup.py) ... \u001b[?25l\u001b[?25hdone\n",
            "Collecting gpu4pyscf-libxc-cuda11x (from gpu4pyscf-cuda11x)\n",
            "  Downloading gpu4pyscf_libxc_cuda11x-0.1-py3-none-manylinux_2_17_x86_64.manylinux2014_x86_64.whl (82.5 MB)\n",
            "\u001b[2K     \u001b[90m━━━━━━━━━━━━━━━━━━━━━━━━━━━━━━━━━━━━━━━━\u001b[0m \u001b[32m82.5/82.5 MB\u001b[0m \u001b[31m8.7 MB/s\u001b[0m eta \u001b[36m0:00:00\u001b[0m\n",
            "\u001b[?25hRequirement already satisfied: cffi in /usr/local/lib/python3.10/dist-packages (from dftd3==0.7.0->gpu4pyscf-cuda11x) (1.16.0)\n",
            "Requirement already satisfied: numpy in /usr/local/lib/python3.10/dist-packages (from dftd3==0.7.0->gpu4pyscf-cuda11x) (1.23.5)\n",
            "Requirement already satisfied: fastrlock>=0.5 in /usr/local/lib/python3.10/dist-packages (from cupy-cuda11x>=12.0->gpu4pyscf-cuda11x) (0.8.2)\n",
            "Requirement already satisfied: scipy!=1.5.0,!=1.5.1 in /usr/local/lib/python3.10/dist-packages (from pyscf>=2.4.0->gpu4pyscf-cuda11x) (1.11.3)\n",
            "Requirement already satisfied: h5py>=2.7 in /usr/local/lib/python3.10/dist-packages (from pyscf>=2.4.0->gpu4pyscf-cuda11x) (3.9.0)\n",
            "Requirement already satisfied: setuptools in /usr/local/lib/python3.10/dist-packages (from pyscf>=2.4.0->gpu4pyscf-cuda11x) (67.7.2)\n",
            "Requirement already satisfied: networkx in /usr/local/lib/python3.10/dist-packages (from geometric->gpu4pyscf-cuda11x) (3.2.1)\n",
            "Requirement already satisfied: six in /usr/local/lib/python3.10/dist-packages (from geometric->gpu4pyscf-cuda11x) (1.16.0)\n",
            "Requirement already satisfied: pycparser in /usr/local/lib/python3.10/dist-packages (from cffi->dftd3==0.7.0->gpu4pyscf-cuda11x) (2.21)\n",
            "Building wheels for collected packages: geometric\n",
            "  Building wheel for geometric (setup.py) ... \u001b[?25l\u001b[?25hdone\n",
            "  Created wheel for geometric: filename=geometric-1.0.1-py3-none-any.whl size=445147 sha256=49986b439d0a7bbbf86e855e394dc81f2421d4c0b256322331e19009bc443040\n",
            "  Stored in directory: /root/.cache/pip/wheels/1d/e8/a2/f21341a562a7245943dfbf758934653695345e177a0989a509\n",
            "Successfully built geometric\n",
            "Installing collected packages: gpu4pyscf-libxc-cuda11x, geometric, cupy-cuda11x, pyscf, dftd4, dftd3, gpu4pyscf-cuda11x\n",
            "  Attempting uninstall: cupy-cuda11x\n",
            "    Found existing installation: cupy-cuda11x 11.0.0\n",
            "    Uninstalling cupy-cuda11x-11.0.0:\n",
            "      Successfully uninstalled cupy-cuda11x-11.0.0\n",
            "Successfully installed cupy-cuda11x-12.2.0 dftd3-0.7.0 dftd4-3.5.0 geometric-1.0.1 gpu4pyscf-cuda11x-0.6.9 gpu4pyscf-libxc-cuda11x-0.1 pyscf-2.4.0\n"
          ]
        }
      ]
    },
    {
      "cell_type": "code",
      "source": [
        "# https://docs.cupy.dev/en/stable/install.html#installing-cupy\n",
        "!python -m cupyx.tools.install_library --cuda 11.x --library cutensor"
      ],
      "metadata": {
        "colab": {
          "base_uri": "https://localhost:8080/"
        },
        "id": "lCmFEGuvD_Wx",
        "outputId": "3cd53373-d240-48d2-aef8-c4a78836d98c"
      },
      "execution_count": null,
      "outputs": [
        {
          "output_type": "stream",
          "name": "stdout",
          "text": [
            "By downloading and using cuTENSOR, you accept the terms and conditions of the NVIDIA cuTENSOR Software License Agreement:\n",
            "  https://docs.nvidia.com/cuda/cutensor/license.html\n",
            "\n",
            "Installing cutensor 1.6.2 for CUDA 11.x to: /root/.cupy/cuda_lib/11.x/cutensor/1.6.2\n",
            "Downloading https://developer.download.nvidia.com/compute/cutensor/redist/libcutensor/linux-x86_64/libcutensor-linux-x86_64-1.6.2.3-archive.tar.xz...\n",
            "Extracting...\n",
            "Installing...\n",
            "Cleaning up...\n",
            "Done!\n"
          ]
        }
      ]
    },
    {
      "cell_type": "markdown",
      "source": [
        "PLEASE manually restart the kernel to update the environment variables ONLY if there is still error.\n",
        "\n",
        "selecting \"Runtime\" from the menu, then choosing \"Restart runtime\""
      ],
      "metadata": {
        "id": "eeyQSl4iHxc0"
      }
    },
    {
      "cell_type": "code",
      "source": [
        "# Changed from gpu4pyscf/example/00-h2o.py\n",
        "# Copyright 2023 The GPU4PySCF Authors. All Rights Reserved.\n",
        "import pyscf\n",
        "from pyscf import lib\n",
        "from gpu4pyscf.dft import rks\n",
        "lib.num_threads(2)"
      ],
      "metadata": {
        "colab": {
          "base_uri": "https://localhost:8080/"
        },
        "id": "iZWlxSvIBU7P",
        "outputId": "461e4489-3ef1-4d98-f601-44b39056e778"
      },
      "execution_count": null,
      "outputs": [
        {
          "output_type": "stream",
          "name": "stderr",
          "text": [
            "/usr/local/lib/python3.10/dist-packages/pyscf/dft/libxc.py:771: UserWarning: Since PySCF-2.3, B3LYP (and B3P86) are changed to the VWN-RPA variant, corresponding to the original definition by Stephens et al. (issue 1480) and the same as the B3LYP functional in Gaussian. To restore the VWN5 definition, you can put the setting \"B3LYP_WITH_VWN5 = True\" in pyscf_conf.py\n",
            "  warnings.warn('Since PySCF-2.3, B3LYP (and B3P86) are changed to the VWN-RPA variant, '\n"
          ]
        },
        {
          "output_type": "execute_result",
          "data": {
            "text/plain": [
              "2"
            ]
          },
          "metadata": {},
          "execution_count": 4
        }
      ]
    },
    {
      "cell_type": "code",
      "source": [
        "atom ='''\n",
        "O       0.0000000000    -0.0000000000     0.1174000000\n",
        "H      -0.7570000000    -0.0000000000    -0.4696000000\n",
        "H       0.7570000000     0.0000000000    -0.4696000000\n",
        "'''\n",
        "\n",
        "xc='B3LYP'\n",
        "bas='def2-tzvpp'\n",
        "auxbasis='def2-tzvpp-jkfit'\n",
        "scf_tol = 1e-10\n",
        "max_scf_cycles = 50\n",
        "screen_tol = 1e-14\n",
        "grids_level = 3\n",
        "\n",
        "mol = pyscf.M(atom=atom, basis=bas, max_memory=32000, output='./pyscf.log')\n",
        "\n",
        "mol.verbose = 4\n",
        "mf_GPU = rks.RKS(mol, xc=xc).density_fit(auxbasis=auxbasis)\n",
        "mf_GPU.grids.level = grids_level\n",
        "mf_GPU.conv_tol = scf_tol\n",
        "mf_GPU.max_cycle = max_scf_cycles\n",
        "mf_GPU.screen_tol = screen_tol\n",
        "\n",
        "# Compute Energy\n",
        "e_dft = mf_GPU.kernel()\n",
        "print(f\"total energy = {e_dft}\")\n",
        "\n",
        "# Compute Gradient\n",
        "g = mf_GPU.nuc_grad_method()\n",
        "g.max_memory = 20000\n",
        "g.auxbasis_response = True\n",
        "g_dft = g.kernel()\n",
        "\n",
        "# Compute Hessian\n",
        "h = mf_GPU.Hessian()\n",
        "h.auxbasis_response = 2\n",
        "h_dft = h.kernel()"
      ],
      "metadata": {
        "colab": {
          "base_uri": "https://localhost:8080/"
        },
        "id": "hgzhxJ4NEeTT",
        "outputId": "d0a4ed0a-2e1c-4aa4-b310-861634186008"
      },
      "execution_count": null,
      "outputs": [
        {
          "output_type": "stream",
          "name": "stdout",
          "text": [
            "output file: ./pyscf.log\n"
          ]
        },
        {
          "output_type": "stream",
          "name": "stderr",
          "text": [
            "Overwritten attributes  screen_tol  of <class 'gpu4pyscf.df.df_jk.DFRKS'>\n",
            "<class 'gpu4pyscf.df.df_jk.DFRKS'> does not have attributes  disp rhoj rhok\n"
          ]
        },
        {
          "output_type": "stream",
          "name": "stdout",
          "text": [
            "total energy = -76.4666820229345\n"
          ]
        }
      ]
    }
  ]
}