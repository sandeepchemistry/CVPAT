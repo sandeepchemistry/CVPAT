{
  "nbformat": 4,
  "nbformat_minor": 0,
  "metadata": {
    "colab": {
      "name": "Parsing files.ipynb",
      "provenance": [],
      "include_colab_link": true
    },
    "kernelspec": {
      "name": "python3",
      "display_name": "Python 3"
    },
    "language_info": {
      "name": "python"
    }
  },
  "cells": [
    {
      "cell_type": "markdown",
      "metadata": {
        "id": "view-in-github",
        "colab_type": "text"
      },
      "source": [
        "<a href=\"https://colab.research.google.com/github/sandeepchemistry/CVPAT/blob/master/Parsing_files.ipynb\" target=\"_parent\"><img src=\"https://colab.research.google.com/assets/colab-badge.svg\" alt=\"Open In Colab\"/></a>"
      ]
    },
    {
      "cell_type": "markdown",
      "source": [
        "We will use pymatgen, a python package, to parse the files from VASP and Gaussian. pymatgen is well-documented which makes it easy to use. (https://pymatgen.org/index.html)"
      ],
      "metadata": {
        "id": "zBvBeilY3eve"
      }
    },
    {
      "cell_type": "code",
      "source": [
        "# install pymatgen\n",
        "!pip install pymatgen"
      ],
      "metadata": {
        "id": "n74YJzdY3bnj"
      },
      "execution_count": null,
      "outputs": []
    },
    {
      "cell_type": "code",
      "source": [
        "# fetch the required files from GitHub\n",
        "!git clone https://github.com/vinayak2019/Parsing_Files\n",
        "!tar -xf  Parsing_Files/vasp/vasprun.xml.tar.gz -C Parsing_Files/vasp/"
      ],
      "metadata": {
        "id": "62cXD-3Mb8kS"
      },
      "execution_count": null,
      "outputs": []
    },
    {
      "cell_type": "markdown",
      "source": [
        "# **Parsing VASP files**"
      ],
      "metadata": {
        "id": "eiwBbSXa2vGt"
      }
    },
    {
      "cell_type": "markdown",
      "source": [
        "The Vienna Ab initio Simulation Package: atomic scale materials modelling from first principles.\n",
        "(https://www.vasp.at/).\n",
        "\n",
        "Here we will look at parsing XML file and a text file created by VASP."
      ],
      "metadata": {
        "id": "MIlIM-Ao4Sws"
      }
    },
    {
      "cell_type": "code",
      "source": [
        "# load Vasprun from pymatgen\n",
        "from pymatgen.io.vasp import Vasprun"
      ],
      "metadata": {
        "id": "GMebKle8p2Pm"
      },
      "execution_count": null,
      "outputs": []
    },
    {
      "cell_type": "code",
      "source": [
        "# read the xml file\n",
        "vasprun = Vasprun(\"/content/Parsing_Files/vasp/vasprun.xml\")"
      ],
      "metadata": {
        "id": "4GRVwkdAp6Sn"
      },
      "execution_count": null,
      "outputs": []
    },
    {
      "cell_type": "code",
      "source": [
        "# the available methods for Vasprun\n",
        "dir(vasprun)"
      ],
      "metadata": {
        "id": "373tI8xUvhvs"
      },
      "execution_count": null,
      "outputs": []
    },
    {
      "cell_type": "code",
      "source": [
        "# check whether calculation is converged\n",
        "vasprun.converged_electronic"
      ],
      "metadata": {
        "id": "yDgIbVLjv3YF"
      },
      "execution_count": null,
      "outputs": []
    },
    {
      "cell_type": "code",
      "source": [
        "# get final energy\n",
        "vasprun.final_energy"
      ],
      "metadata": {
        "id": "AURoAM7Mvrl2"
      },
      "execution_count": null,
      "outputs": []
    },
    {
      "cell_type": "markdown",
      "source": [
        "pymatgen also had modules to plot. Here we will use the DoSPlotter to plot density of states (https://en.wikipedia.org/wiki/Density_of_states)"
      ],
      "metadata": {
        "id": "Yp3qon0ajeRv"
      }
    },
    {
      "cell_type": "code",
      "source": [
        "# plotting density of states\n",
        "from pymatgen.electronic_structure.plotter import DosPlotter\n",
        "\n",
        "tdos = vasprun.tdos\n",
        "plotter = DosPlotter(sigma=0.1)\n",
        "plotter.add_dos(\"Total DOS\", tdos)\n",
        "plotter.show()"
      ],
      "metadata": {
        "id": "ukspLg_nwOsQ"
      },
      "execution_count": null,
      "outputs": []
    },
    {
      "cell_type": "markdown",
      "source": [
        "We can also parse any text files created by VASP with pymatgen. Below is an example to parse the OUTCAR file"
      ],
      "metadata": {
        "id": "560wYehPjxyc"
      }
    },
    {
      "cell_type": "code",
      "source": [
        "# load the module Outcar\n",
        "from pymatgen.io.vasp import Outcar\n",
        "\n",
        "# read the file\n",
        "outcar = Outcar(\"/content/Parsing_Files/vasp/OUTCAR\")\n",
        "\n",
        "# display the statistics for the job\n",
        "outcar.run_stats"
      ],
      "metadata": {
        "id": "ws-1ciPJw4BD"
      },
      "execution_count": null,
      "outputs": []
    },
    {
      "cell_type": "markdown",
      "source": [
        "# **Parsing Gaussian files**"
      ],
      "metadata": {
        "id": "LMVdFd-xwdNd"
      }
    },
    {
      "cell_type": "markdown",
      "source": [
        "Gaussian 16 is the latest in the Gaussian series of programs. It provides state-of-the-art capabilities for electronic structure modeling. Gaussian 16 is licensed for a wide variety of computer systems. All versions of Gaussian 16 contain every scientific/modeling feature, and none imposes any artificial limitations on calculations other than your computing resources and patience. https://gaussian.com/gaussian16/"
      ],
      "metadata": {
        "id": "GZNEPgUHwqPM"
      }
    },
    {
      "cell_type": "markdown",
      "source": [
        "## **pymatgen**\n",
        "\n",
        "The modules to parse gaussian are availbale in pymatgen. Other codes which can be parsed are listed here (https://pymatgen.org/pymatgen.io.html)"
      ],
      "metadata": {
        "id": "erz1YaYZx-O6"
      }
    },
    {
      "cell_type": "code",
      "source": [
        "# we import the module load parse gaussian output files\n",
        "from pymatgen.io.gaussian  import GaussianOutput"
      ],
      "metadata": {
        "id": "7iCZnYqeeBsu"
      },
      "execution_count": null,
      "outputs": []
    },
    {
      "cell_type": "code",
      "source": [
        "# reading the log file\n",
        "gout = GaussianOutput(\"/content/Parsing_Files/gaussian/tddft.log\")"
      ],
      "metadata": {
        "id": "qNgKY-n6eIPV"
      },
      "execution_count": null,
      "outputs": []
    },
    {
      "cell_type": "code",
      "source": [
        "# looking at all the methods available\n",
        "dir(gout)"
      ],
      "metadata": {
        "id": "a-I5zrY3eW8K"
      },
      "execution_count": null,
      "outputs": []
    },
    {
      "cell_type": "code",
      "source": [
        "# getting the final energy\n",
        "gout.final_energy"
      ],
      "metadata": {
        "id": "_Yf0ox99eUhO"
      },
      "execution_count": null,
      "outputs": []
    },
    {
      "cell_type": "code",
      "source": [
        "# final structure\n",
        "gout.final_structure"
      ],
      "metadata": {
        "id": "HY_JDORkenad"
      },
      "execution_count": null,
      "outputs": []
    },
    {
      "cell_type": "code",
      "execution_count": null,
      "metadata": {
        "id": "NdThnQWPwYE6"
      },
      "outputs": [],
      "source": [
        "# TDDFT excitations\n",
        "gout.read_excitation_energies()"
      ]
    },
    {
      "cell_type": "markdown",
      "source": [
        "## **Generic text parsing**"
      ],
      "metadata": {
        "id": "dn9FZrjFyKmI"
      }
    },
    {
      "cell_type": "markdown",
      "source": [
        "We will use regular expressions for parsing text files. (https://en.wikipedia.org/wiki/Regular_expression)\n",
        "\n",
        "\n",
        "The process for parsing is as follows -\n",
        "1.   Find a unique pattern for the start of parsing segment\n",
        "2.   Find a pattern for the end of segment\n",
        "1.   Read the file\n",
        "2.   Look for the line with start pattern\n",
        "1.   Starting the parsing code until end pattern is encountered\n",
        "\n",
        "\n",
        "\n",
        "Use this for testing regular expression (https://regex101.com/)\n",
        "\n",
        "\n",
        "\n",
        "\n",
        "\n",
        "\n",
        "\n"
      ],
      "metadata": {
        "id": "26IqA5xG7szU"
      }
    },
    {
      "cell_type": "code",
      "source": [
        "# import regular expression module\n",
        "import re"
      ],
      "metadata": {
        "id": "JXPtDsilpRWc"
      },
      "execution_count": null,
      "outputs": []
    },
    {
      "cell_type": "code",
      "source": [
        "# We will parse the Mulliken charges for all atoms\n",
        "\n",
        "# Find the pattern\n",
        "start_pattern = re.compile(r'Mulliken charges:')"
      ],
      "metadata": {
        "id": "_tyW0zWPpfOf"
      },
      "execution_count": null,
      "outputs": []
    },
    {
      "cell_type": "code",
      "source": [
        "# The pattern at the end\n",
        "end_pattern = re.compile(r'Sum of Mulliken charges')"
      ],
      "metadata": {
        "id": "CTAjzb-WphAG"
      },
      "execution_count": null,
      "outputs": []
    },
    {
      "cell_type": "code",
      "source": [
        "# read the file (I prefer to read lines as list of lines)\n",
        "with open(\"/content/Parsing_Files/gaussian/tddft.log\") as f:\n",
        "  lines = f.readlines()"
      ],
      "metadata": {
        "id": "j50RSYGypiQt"
      },
      "execution_count": null,
      "outputs": []
    },
    {
      "cell_type": "code",
      "source": [
        "# check types\n",
        "print(\"The type of lines variable is \",type(lines))\n",
        "\n",
        "# print first 10 lines\n",
        "print(lines[:10])"
      ],
      "metadata": {
        "id": "ZugVKePGnp8y"
      },
      "execution_count": null,
      "outputs": []
    },
    {
      "cell_type": "markdown",
      "source": [
        "We will use re.match() to check whether the line contains our start pattern"
      ],
      "metadata": {
        "id": "oFFp0kHYot4s"
      }
    },
    {
      "cell_type": "code",
      "source": [
        "# find line with start pattern\n",
        "for idx, line in enumerate(lines): # loops over the lines\n",
        "  if re.match(start_pattern,line.strip()):\n",
        "    break\n",
        "print(idx)"
      ],
      "metadata": {
        "id": "F-JV330xpqpt"
      },
      "execution_count": null,
      "outputs": []
    },
    {
      "cell_type": "markdown",
      "source": [
        "To stop parsing we will again use re.match() to match the end pattern. We will append the lines to the list"
      ],
      "metadata": {
        "id": "rB4Ew4TBpOUR"
      }
    },
    {
      "cell_type": "code",
      "source": [
        "# parse lines\n",
        "idx = idx + 2\n",
        "line = lines[idx]\n",
        "\n",
        "parsed_lines = []\n",
        "while not(re.match(end_pattern,line.strip())):\n",
        "  parsed_lines.append(line.strip())\n",
        "  idx += 1\n",
        "  line = lines[idx]"
      ],
      "metadata": {
        "id": "0WEDBUtmptM_"
      },
      "execution_count": null,
      "outputs": []
    },
    {
      "cell_type": "code",
      "source": [
        "# parsed data\n",
        "print(parsed_lines)"
      ],
      "metadata": {
        "id": "jxF-vqIqpw-n"
      },
      "execution_count": null,
      "outputs": []
    },
    {
      "cell_type": "markdown",
      "source": [
        "To clean up the data we will create a dictionay of form\n",
        "{\"number\":1,\n",
        "\"atom\":\"C\",\n",
        "\"charge\":\"-0.4\"}"
      ],
      "metadata": {
        "id": "r6Y37MEKrE1S"
      }
    },
    {
      "cell_type": "code",
      "source": [
        "# testing on one line\n",
        "parsed_lines[0].strip().split()"
      ],
      "metadata": {
        "id": "91N5LSMlvQSK"
      },
      "execution_count": null,
      "outputs": []
    },
    {
      "cell_type": "code",
      "source": [
        "#creating dictionary\n",
        "clean_line = parsed_lines[0].strip().split()\n",
        "d = {\"number\": int(clean_line[0]),\n",
        "     \"atom\": clean_line[1],\n",
        "     \"charge\": float(clean_line[2])\n",
        " }\n",
        "print(d)"
      ],
      "metadata": {
        "id": "UZ63Xs_nvX5E"
      },
      "execution_count": null,
      "outputs": []
    },
    {
      "cell_type": "code",
      "source": [
        "# clean up the data\n",
        "data = []\n",
        "for line in parsed_lines:\n",
        "  clean_line = line.strip().split()\n",
        "  data.append(\n",
        "      {\"number\": int(clean_line[0]),\n",
        "     \"atom\": clean_line[1],\n",
        "     \"charge\": float(clean_line[2])\n",
        " }\n",
        "  )"
      ],
      "metadata": {
        "id": "QWeeN2uKqz2B"
      },
      "execution_count": null,
      "outputs": []
    },
    {
      "cell_type": "code",
      "source": [
        "# creating a table with pandas\n",
        "import pandas as pd\n",
        "\n",
        "pd.DataFrame(data)"
      ],
      "metadata": {
        "id": "STzNpkjkwMSj"
      },
      "execution_count": null,
      "outputs": []
    },
    {
      "cell_type": "markdown",
      "source": [
        "### **Exercise**\n",
        "\n",
        "Parse the Mulliken charges with hydrogens summed into heavy atoms"
      ],
      "metadata": {
        "id": "STNnGN_Y89wA"
      }
    },
    {
      "cell_type": "code",
      "source": [
        "# YOUR CODE HERE"
      ],
      "metadata": {
        "id": "T8XC9iXUfmoO"
      },
      "execution_count": null,
      "outputs": []
    },
    {
      "cell_type": "markdown",
      "source": [
        "Please take this survey to help me improve the workshop https://docs.google.com/forms/d/e/1FAIpQLSdpn3lpq1n1fA4aqLDvfA9VARsTNBnD5p6gcCtJ_VaYGiYxlA/viewform?usp=sf_link"
      ],
      "metadata": {
        "id": "YxVn5cAywlo_"
      }
    }
  ]
}