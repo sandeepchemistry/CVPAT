{
  "cells": [
    {
      "cell_type": "markdown",
      "metadata": {
        "id": "kM8uapaS3i4o"
      },
      "source": [
        "<a href=\"https://colab.research.google.com/github/lorenzopallante/BiomeccanicaMultiscala/blob/main/LAB/06-Gromacs/06-Gromacs.ipynb\" target=\"_parent\"><img src=\"https://colab.research.google.com/assets/colab-badge.svg\" alt=\"Open In Colab\"/></a>"
      ]
    },
    {
      "cell_type": "markdown",
      "metadata": {
        "id": "QfOgvsKz3i4r"
      },
      "source": [
        "# Laboratorio 6\n",
        "**Introduction to GROMACS**\n",
        "\n",
        "\n",
        "Authors:\n",
        "    \n",
        "- Prof. Marco A. Deriu (marco.deriu@polito.it)\n",
        "- Lorenzo Pallante (lorenzo.pallante@polito.it)\n",
        "- Eric A. Zizzi (eric.zizzi@polito.it)\n",
        "- Marcello Miceli (marcello.miceli@polito.it)\n",
        "- Marco Cannariato (marco.cannariato@polito.it)"
      ]
    },
    {
      "cell_type": "markdown",
      "metadata": {
        "id": "iRXZ2Ez63i4s"
      },
      "source": [
        "# Table of Contents\n",
        "\n",
        "1. Gromacs Setup\n",
        "2. Molecular Dynamics (MD) Flow chart\n",
        "3. GROMACS 1 (make_ndx, editconf, pdb2gmx)\n",
        "4. GROMACS 2 (editconf, solvate, grompp, genion)\n",
        "5. GROMACS 3 (grompp, mdrun, energy)\n",
        "6. GROMACS 4 (analysis)\n",
        "\n",
        "**Learning outcomes:**\n",
        "- how to install gromacs and lauch it\n",
        "- General flow chart of a MD simulation\n",
        "- GROMACS:\n",
        "    - create an index file\n",
        "    - generate a simulation box\n",
        "    - create gmx starting files\n",
        "    - prepare the simulation box\n",
        "    - generate the environment: solvent and ions\n",
        "    - equilibrate the system\n",
        "    - perform classical MD simulation\n",
        "    - perform basic analysis"
      ]
    },
    {
      "cell_type": "markdown",
      "metadata": {
        "id": "owpIBUkna5Ow"
      },
      "source": [
        "# Setup"
      ]
    },
    {
      "cell_type": "markdown",
      "metadata": {
        "id": "jL2vxxde3i4u"
      },
      "source": [
        "If you don't have GROMACS and NGLView installed on your machine or if you are using Google COLAB, run the following lines\n",
        "\n",
        "**This lines should be run at the beginning of each laboratory**"
      ]
    },
    {
      "cell_type": "code",
      "execution_count": 1,
      "metadata": {
        "id": "on2BsJ2q3i4v"
      },
      "outputs": [],
      "source": [
        "#@title Increase the output length\n",
        "from notebook.services.config import ConfigManager\n",
        "cm = ConfigManager().update('notebook', {'limit_output': 10000000})"
      ]
    },
    {
      "cell_type": "code",
      "execution_count": 2,
      "metadata": {
        "id": "B8_MjDYnhDwh"
      },
      "outputs": [],
      "source": [
        "#@title Installing GROMACS and related packages\n",
        "!apt install gromacs &> /dev/null\n",
        "!apt install dssp &> /dev/null\n",
        "!ln -s /usr/bin/dssp /usr/local/bin/dssp\n",
        "!apt install ghostscript &> /dev/null"
      ]
    },
    {
      "cell_type": "code",
      "execution_count": 3,
      "metadata": {
        "id": "C2hA7f_MEF5K"
      },
      "outputs": [],
      "source": [
        "#@title Installing NGLview\n",
        "!pip install nglview  &> /dev/null\n",
        "!pip install simpletraj  &> /dev/null\n",
        "!pip install mdanalysis &> /dev/null\n",
        "from google.colab import output\n",
        "output.enable_custom_widget_manager()"
      ]
    },
    {
      "cell_type": "markdown",
      "metadata": {
        "id": "3D_EIhE73i4w"
      },
      "source": [
        "Clone files form GitHub if you are using COLAB"
      ]
    },
    {
      "cell_type": "code",
      "execution_count": 4,
      "metadata": {
        "id": "q7KDo_BQ3i4x",
        "outputId": "b21ec283-e346-461e-aedb-afbf7944a4c1",
        "colab": {
          "base_uri": "https://localhost:8080/"
        }
      },
      "outputs": [
        {
          "output_type": "stream",
          "name": "stdout",
          "text": [
            "Cloning into 'BiomeccanicaMultiscala'...\n",
            "remote: Enumerating objects: 1642, done.\u001b[K\n",
            "remote: Counting objects: 100% (40/40), done.\u001b[K\n",
            "remote: Compressing objects: 100% (30/30), done.\u001b[K\n",
            "remote: Total 1642 (delta 29), reused 17 (delta 10), pack-reused 1602 (from 2)\u001b[K\n",
            "Receiving objects: 100% (1642/1642), 219.11 MiB | 32.00 MiB/s, done.\n",
            "Resolving deltas: 100% (834/834), done.\n",
            "Updating files: 100% (347/347), done.\n"
          ]
        }
      ],
      "source": [
        "# IF YOU ARE USING COLAB EXECUTE THIS CELL (to copy over data repository)\n",
        "!git clone https://github.com/lorenzopallante/BiomeccanicaMultiscala.git\n",
        "!mv BiomeccanicaMultiscala/LAB/06-Gromacs/* ."
      ]
    },
    {
      "cell_type": "markdown",
      "metadata": {
        "id": "D6nSkKIS8r53"
      },
      "source": [
        "# Introduction"
      ]
    },
    {
      "cell_type": "markdown",
      "metadata": {
        "id": "ssFzV4Bb85v5"
      },
      "source": [
        "**GROMACS is a major free, open-source, and fast code developed for Molecular Dynamics (MD) simulations**. Its continuous updates (1 major release/year), speed, efficiency and flexibility, along with the inbuilt availability of force fields specific for proteins, make it one of the most popular choices for biomolecular simulations.\n",
        "(http://www.gromacs.org/).\n",
        "\n",
        "Complete **GROMACS tutorial** available at: http://www.mdtutorials.com/gmx/\n",
        "\n",
        "To see what gromacs version is installed on your PC:"
      ]
    },
    {
      "cell_type": "code",
      "execution_count": 5,
      "metadata": {
        "colab": {
          "base_uri": "https://localhost:8080/"
        },
        "id": "QiftsBpN7raV",
        "outputId": "ff7d92f6-c4e5-41b0-e038-6da5f0c1639a",
        "scrolled": true
      },
      "outputs": [
        {
          "output_type": "stream",
          "name": "stdout",
          "text": [
            "                 :-) GROMACS - gmx, 2021.4-Ubuntu-2021.4-2 (-:\n",
            "\n",
            "                            GROMACS is written by:\n",
            "     Andrey Alekseenko              Emile Apol              Rossen Apostolov     \n",
            "         Paul Bauer           Herman J.C. Berendsen           Par Bjelkmar       \n",
            "       Christian Blau           Viacheslav Bolnykh             Kevin Boyd        \n",
            "     Aldert van Buuren           Rudi van Drunen             Anton Feenstra      \n",
            "    Gilles Gouaillardet             Alan Gray               Gerrit Groenhof      \n",
            "       Anca Hamuraru            Vincent Hindriksen          M. Eric Irrgang      \n",
            "      Aleksei Iupinov           Christoph Junghans             Joe Jordan        \n",
            "    Dimitrios Karkoulis            Peter Kasson                Jiri Kraus        \n",
            "      Carsten Kutzner              Per Larsson              Justin A. Lemkul     \n",
            "       Viveca Lindahl            Magnus Lundborg             Erik Marklund       \n",
            "        Pascal Merz             Pieter Meulenhoff            Teemu Murtola       \n",
            "        Szilard Pall               Sander Pronk              Roland Schulz       \n",
            "       Michael Shirts            Alexey Shvetsov             Alfons Sijbers      \n",
            "       Peter Tieleman              Jon Vincent              Teemu Virolainen     \n",
            "     Christian Wennberg            Maarten Wolf              Artem Zhmurov       \n",
            "                           and the project leaders:\n",
            "        Mark Abraham, Berk Hess, Erik Lindahl, and David van der Spoel\n",
            "\n",
            "Copyright (c) 1991-2000, University of Groningen, The Netherlands.\n",
            "Copyright (c) 2001-2019, The GROMACS development team at\n",
            "Uppsala University, Stockholm University and\n",
            "the Royal Institute of Technology, Sweden.\n",
            "check out http://www.gromacs.org for more information.\n",
            "\n",
            "GROMACS is free software; you can redistribute it and/or modify it\n",
            "under the terms of the GNU Lesser General Public License\n",
            "as published by the Free Software Foundation; either version 2.1\n",
            "of the License, or (at your option) any later version.\n",
            "\n",
            "GROMACS:      gmx, version 2021.4-Ubuntu-2021.4-2\n",
            "Executable:   /usr/bin/gmx\n",
            "Data prefix:  /usr\n",
            "Working dir:  /content\n",
            "Command line:\n",
            "  gmx -version\n",
            "\n",
            "GROMACS version:    2021.4-Ubuntu-2021.4-2\n",
            "Precision:          mixed\n",
            "Memory model:       64 bit\n",
            "MPI library:        thread_mpi\n",
            "OpenMP support:     enabled (GMX_OPENMP_MAX_THREADS = 64)\n",
            "GPU support:        disabled\n",
            "SIMD instructions:  SSE4.1\n",
            "FFT library:        fftw-3.3.8-sse2-avx\n",
            "RDTSCP usage:       enabled\n",
            "TNG support:        enabled\n",
            "Hwloc support:      hwloc-2.5.0\n",
            "Tracing support:    disabled\n",
            "C compiler:         /usr/bin/cc GNU 11.2.0\n",
            "C compiler flags:   -msse4.1 -Wno-missing-field-initializers -fexcess-precision=fast -funroll-all-loops -O3 -DNDEBUG\n",
            "C++ compiler:       /usr/bin/c++ GNU 11.2.0\n",
            "C++ compiler flags: -msse4.1 -Wno-missing-field-initializers -fexcess-precision=fast -funroll-all-loops -fopenmp -O3 -DNDEBUG\n",
            "\n"
          ]
        }
      ],
      "source": [
        "!gmx -version"
      ]
    },
    {
      "cell_type": "markdown",
      "metadata": {
        "id": "cbSAT3zW9gLE"
      },
      "source": [
        "All gromacs commands can be used with the syntax:\n",
        "\n",
        "`\n",
        "    gmx <command>\n",
        "`\n",
        "\n",
        "And all the commands have a help message that can be displayed using the option “-h”, e.g.:\n",
        "\n",
        "`\n",
        "    gmx pdb2gmx -h    \n",
        "`\n",
        "\n",
        "For basic and advanced GROMACS tutorial, please visit: http://www.mdtutorials.com/gmx/\n"
      ]
    },
    {
      "cell_type": "markdown",
      "metadata": {
        "id": "dCVxuTS29o5b"
      },
      "source": [
        "## Files and suggested directory tree\n",
        "You will need the following files to run a simulation:\n",
        ">1. Atom coordinates: *.pdb (or *.gro)\n",
        ">2. Topology file: *.top\n",
        ">3. MD parameters: *.mdp"
      ]
    },
    {
      "cell_type": "markdown",
      "metadata": {
        "id": "IPVxshFT3i45"
      },
      "source": [
        "**1. PDB**\n",
        "- coordinates of atoms in the x,y,z space\n",
        "- see also the lesson *03-Intro_LinuxBash* for further info"
      ]
    },
    {
      "cell_type": "markdown",
      "metadata": {
        "id": "ytY07Qcw3i45"
      },
      "source": [
        "![title](https://github.com/lorenzopallante/BiomeccanicaMultiscala/blob/main/LAB/06-Gromacs/imgs/pdb.png?raw=1)"
      ]
    },
    {
      "cell_type": "markdown",
      "metadata": {
        "id": "UaKi0lZg3i46"
      },
      "source": [
        "**2. TOP**\n",
        "- topology of the systems, i.e. bonds, angles, diehedrals, non-bonded interactios and relative parameters\n",
        "- generated by GROMACS once you select the forcefield (or made by yourself when you're a pro!)\n"
      ]
    },
    {
      "cell_type": "markdown",
      "metadata": {
        "id": "RbDeToHn3i46"
      },
      "source": [
        "<img src=\"https://github.com/lorenzopallante/BiomeccanicaMultiscala/blob/main/LAB/06-Gromacs/imgs/top2.png?raw=1\" width=\"1200\" align=\"center\">"
      ]
    },
    {
      "cell_type": "markdown",
      "metadata": {
        "id": "tsVsIj1Q3i46"
      },
      "source": [
        "**3. MDP**\n",
        "- simulation parameters, such as integration time step, simulation duration, cut-off, temperature and pressure couplings, etc.."
      ]
    },
    {
      "cell_type": "markdown",
      "metadata": {
        "id": "b4oOWPmm3i47"
      },
      "source": [
        "![mdp](https://github.com/lorenzopallante/BiomeccanicaMultiscala/blob/main/LAB/06-Gromacs/imgs/mdp.png?raw=1)"
      ]
    },
    {
      "cell_type": "markdown",
      "metadata": {
        "id": "bG4KU2_f3i47"
      },
      "source": [
        "*We suggest you create a new folder for each simulation you run, put all the necessary files into the simulation folder itself, and let GROMACS write into that same folder.*\n",
        "\n",
        "<div class=\"alert alert-block alert-warning\">\n",
        "\n",
        "Keep in mind that GROMACS is a **command-line program**:\n",
        "    \n",
        "if you don’t specify the full paths to the required input files, but only the file name (example call: $ gmx make_ndx -s struct.tpr -o index.ndx ), GROMACS will expect the input file (struct.tpr) to be in the folder you’re calling it from, and will write the output file (index.ndx) into the same current folder. If struct.tpr is not in the current folder, GROMACS will throw an error and fail! GROMACS error messages are pretty explicit, so chances are READING THE ERROR is enough to troubleshoot most issues (e.g. if a required file is missing).\n",
        "\n",
        "<div/>"
      ]
    },
    {
      "cell_type": "markdown",
      "metadata": {
        "id": "2zYZ3tLK-VuI"
      },
      "source": [
        "## Molecule: Cell-Penetrating Peptide\n",
        "\n",
        "The discovery of Cell-Penetrating Peptides (CPPs) represents an important breakthrough for the delivery of large cargo molecules or nanoparticles for several clinical applications. A main feature of CPPs is the ability to\n",
        "penetrate the cell membrane at low micromolar concentrations in vivo and in vitro, without binding any chiralreceptors and without causing significant membrane damage. This ability offers significant therapeutic potential,\n",
        "as targeting areas normally difficult to access for drugs.\n",
        "TAT peptide and Drosophila Antennapedia homeodomain-derived penetratin peptide (pAntp) are the most\n",
        "extensively studied CPPs. In particular, the pAntp is a 16-residues long cationic peptide derived from the third\n",
        "helix of the homeodomain of the Drosohila transcription factor Antennapedia. This amphipatic CPP, largely\n",
        "unstructured in solution, is positively charged at neutral pH (since it contains four lysine and three arginine\n",
        "residues). Interestingly, the pAntp is able to cross biological membranes and enter a hydrophobic environment\n",
        "upon interaction with negatively-charged molecules, like phosphatic acid (PA) or phosphatidylserine (PS).\n",
        "However, mechanisms by which pAntp comes into the cells have not been completely understood. Proposed\n",
        "mechanisms of pAntp cellular uptake hypothesize direct crossing of the peptide through the membrane at low\n",
        "peptide concentrations (1μM) and an endocytotic pathway at high concentrations (10μM). Several studies have\n",
        "suggested that pAntp amphiphilicity may not be enough to drive the membrane penetration, indicating instead\n",
        "tryptophan as key player. Replacement of thryptophan by phenylanine resulted in a loss of penetration activity\n",
        "when interacting with membranes and bicelles. Moreover, a recent computational work has characterized the\n",
        "binding mode of pAntp-DPPC bilayers, proposing arginine, lysine and tryptophan as driving the penetration\n",
        "mechanism.\n",
        "This extraordinary ability of CPPs to penetrate cell membranes has brought to designate them as perfect\n",
        "functionalization molecules for drug delivery systems.\n",
        "For example, pAntp might be employed to decorate Magnetic Nanoparticles (MNPs), thus combining their\n",
        "fascinating physico-chemical properties with a cell-penetrating ability to design novel effective therapeutic\n",
        "strategies as well as innovative biotechnology methodologies. Size, biocompatibility and excellent magnetic\n",
        "properties, have made MAG and Silica-coated MAG the object of a remarkable amount of research in the last\n",
        "decade and numerous biomedical applications have been reported. Recently, MNPs combined with magnetic\n",
        "fields were used to enable cell positioning under non-permissive conditions, local gene therapy and/or\n",
        "optimization of MNP- assisted lentiviral gene transfer.\n",
        "Functionalization strategies comprise grafting with organic molecules, including small organic biomolecules such\n",
        "as CPPs, and/or coating with an inorganic layer (e.g., silica).\n",
        "Design and properties prediction of functionalization strategies may be addressed by computational molecular\n",
        "modelling. In this context, Kubiak-Ossowska and coworkers have recently employed computational modelling\n",
        "to investigate the adsorption of TAT peptides onto three silica surface models. This work has suggested that TAT-\n",
        "Silica adsorption mechanism is driven by electrostatic and hydrophobic interactions mainly involving arginine\n",
        "residues and the nanoparticle surface."
      ]
    },
    {
      "cell_type": "markdown",
      "metadata": {
        "id": "-i1ArCAA-vL9"
      },
      "source": [
        "## Molecular Dynamics (MD) Simulations\n",
        "\n",
        "Briefly, the general workflow of an MD simulation with GROMACS is\n",
        "divided in the following steps (see also “MD_FlowChart.pdf”):\n",
        "\n",
        "1. System Preparation\n",
        "> - Retrieve starting structure (e.g. RCSB)\n",
        "> - GROMACS structure conversion (from pdb to gro*)\n",
        ">- Topology (and position restraints) generation\n",
        ">- System box generation and addition of water and ions\n",
        "\n",
        "2. Energy Minimization\n",
        "3. Simulation\n",
        "> - (Equilibration: Molecular Dynamics Simulation normally with position restraints)\n",
        "> - Production: Molecular Dynamics Simulation\n",
        "\n",
        "4. Analysis of the Simulation"
      ]
    },
    {
      "cell_type": "markdown",
      "metadata": {
        "id": "S0DoK0J13i48"
      },
      "source": [
        "*note that both .gro and .pdb files both contain atomic coordinates and\n",
        "only differ for minor aspects:\n",
        "> - .gro coordinates are in nm, whereas *.pdb coordinates in Å\n",
        "> - .gro file can contain also atoms’ velocities\n",
        "\n",
        "GROMACS can work with both types of files and does not strictly need the .gro file format for most operations.\n",
        "It can be however handy to have a .gro file, for example, to quickly extract the box vector."
      ]
    },
    {
      "cell_type": "markdown",
      "metadata": {
        "id": "ly7hqZlqAcQi"
      },
      "source": [
        "<img src=\"https://github.com/lorenzopallante/BiomeccanicaMultiscala/blob/main/LAB/06-Gromacs/imgs/MD_FlowChart.png?raw=1\" width=\"500\" align=\"center\">"
      ]
    },
    {
      "cell_type": "markdown",
      "metadata": {
        "id": "xxhGnfymAMa2"
      },
      "source": [
        "# PART 1 – PDB conversion"
      ]
    },
    {
      "cell_type": "markdown",
      "metadata": {
        "id": "wNxaUtHnBkoH"
      },
      "source": [
        "The protein of interest for the present tutorial is called penetratin.pdb (already present in the data/ folder)"
      ]
    },
    {
      "cell_type": "markdown",
      "metadata": {
        "id": "-yw0NAyKC5PA"
      },
      "source": [
        "Using a visualization software (for example VMD, PyMol, UCSF Chimera, Schrödinger Maestro, MOE, ...) you can view and rotate the structure. Here we will use **NGL View** for semplicity."
      ]
    },
    {
      "cell_type": "code",
      "execution_count": 6,
      "metadata": {
        "id": "VEC0AGP63i4-",
        "outputId": "1a69b661-3c57-41b4-d46d-59bd1475123a",
        "colab": {
          "base_uri": "https://localhost:8080/",
          "height": 17,
          "referenced_widgets": [
            "1831a35afed5499695d23f49368339c2",
            "770bcef2765e44acb95cc8ab3e4840de",
            "f2a0e578feff495e892daa6598a99e51",
            "1a13c81521b24236b5472e6f923749df",
            "b5a7b5bdabb74bec8843c1cc252a11f9",
            "4578fb6cf1df4f79a68ed255508b7ace",
            "abed7bd74b8d4f3693e9158f74cfb300",
            "29fca74152f14650848636fc87f0f58f",
            "827646beac244bcfb2b637b41c5f0fc3",
            "dd29eef47c8f47b7b710b521de7b776f",
            "f23f4613373a4559be2ecf7e862441a4"
          ]
        }
      },
      "outputs": [
        {
          "output_type": "display_data",
          "data": {
            "text/plain": [],
            "application/vnd.jupyter.widget-view+json": {
              "version_major": 2,
              "version_minor": 0,
              "model_id": "1831a35afed5499695d23f49368339c2"
            }
          },
          "metadata": {
            "application/vnd.jupyter.widget-view+json": {
              "colab": {
                "custom_widget_manager": {
                  "url": "https://ssl.gstatic.com/colaboratory-static/widgets/colab-cdn-widget-manager/2b70e893a8ba7c0f/manager.min.js"
                }
              }
            }
          }
        },
        {
          "output_type": "display_data",
          "data": {
            "text/plain": [
              "NGLWidget()"
            ],
            "application/vnd.jupyter.widget-view+json": {
              "version_major": 2,
              "version_minor": 0,
              "model_id": "827646beac244bcfb2b637b41c5f0fc3"
            }
          },
          "metadata": {
            "application/vnd.jupyter.widget-view+json": {
              "colab": {
                "custom_widget_manager": {
                  "url": "https://ssl.gstatic.com/colaboratory-static/widgets/colab-cdn-widget-manager/2b70e893a8ba7c0f/manager.min.js"
                }
              }
            }
          }
        }
      ],
      "source": [
        "import nglview as nv\n",
        "from IPython.display import IFrame\n",
        "\n",
        "with open(\"data/penetratin.pdb\") as f:\n",
        "    view = nv.show_file(f, ext=\"pdb\")\n",
        "view"
      ]
    },
    {
      "cell_type": "markdown",
      "metadata": {
        "id": "ZzVSrYfUe7jp"
      },
      "source": [
        "Let’s now have a look at the actual pdb file, which is nothing more than a text file!"
      ]
    },
    {
      "cell_type": "code",
      "execution_count": null,
      "metadata": {
        "id": "wmlEVUByfLPs"
      },
      "outputs": [],
      "source": [
        "!cat data/penetratin.pdb"
      ]
    },
    {
      "cell_type": "markdown",
      "metadata": {
        "id": "D_UjJbcKf4YI"
      },
      "source": [
        "You will see that the pdb is essentially a space-separated text file organized into columns.\n",
        "Briefly:\n",
        "- The first column defines the row type (e.g. REMARK tells you that this row is a comment, ATOM tells you that this row contains actual atomic coordinates, etc.).\n",
        "- Columns 7, 8 and 9 contain the x,y,z coordinates of the atoms of the system.\n",
        "\n",
        "For more information: https://www.cgl.ucsf.edu/chimera/docs/UsersGuide/tutorials/pdbintro.html."
      ]
    },
    {
      "cell_type": "markdown",
      "metadata": {
        "id": "9__i_ebQgGvK"
      },
      "source": [
        "## Make Index File (gmx make_ndx)\n"
      ]
    },
    {
      "cell_type": "markdown",
      "metadata": {
        "id": "kH6kRGS2gihh"
      },
      "source": [
        "We now introduce a very powerful tool in GROMACS: index files. Index files are created starting from an atomic system (e.g. a pdb file), and split atoms into specific groups. These can be useful to restrict operations and analyses only to specific parts of the system, for example, if you want to see fluctuations of the alpha-Carbons only, you can select that specific group in the analysis tool.\n",
        "\n",
        "To have detailed information about the command to make index files, just type:"
      ]
    },
    {
      "cell_type": "code",
      "execution_count": null,
      "metadata": {
        "id": "7IUc41ZlgoDS",
        "scrolled": true
      },
      "outputs": [],
      "source": [
        "!gmx make_ndx -h"
      ]
    },
    {
      "cell_type": "markdown",
      "metadata": {
        "id": "W39IMDUni4Vm"
      },
      "source": [
        "Let’s first create an index file (it will not be created by default when you launch the simulation!):"
      ]
    },
    {
      "cell_type": "code",
      "execution_count": null,
      "metadata": {
        "scrolled": true,
        "id": "QEJvoS3A3i5C"
      },
      "outputs": [],
      "source": [
        "!echo -e \"q \\n\" | gmx make_ndx -f data/penetratin.pdb -o index.ndx"
      ]
    },
    {
      "cell_type": "markdown",
      "metadata": {
        "id": "XbfulkTJjRYE"
      },
      "source": [
        "You will see that make_ndx will read the pdb file (option “-f”), create some default groups and then wait for your input.\n",
        "\n",
        "You can manually add groups by typing the atoms manually (we will see the selection syntax later on...), or simply accept the default groups and save them by typing q and hitting Enter. The final index file (index.ndx) will be saved with the name chosen in the option “-o”."
      ]
    },
    {
      "cell_type": "markdown",
      "metadata": {
        "id": "Vz_K0e34CAs_"
      },
      "source": [
        "## Edit molecular configuration (gmx editconf)"
      ]
    },
    {
      "cell_type": "markdown",
      "metadata": {
        "id": "O8hJWxyU3i5N"
      },
      "source": [
        "As mentioned, the previous groups obtained with gmx make_ndx can be used to tell GROMACS to do operations on a specific subset of atoms only. Let’s say for example I want a pdb file containing only the alpha Carbons of my starting penetratin.pdb structure. I can achieve this by calling editconf (which, as the name suggests, is an editor for molecular configurations) and also including the index.ndx file as input:"
      ]
    },
    {
      "cell_type": "code",
      "execution_count": null,
      "metadata": {
        "scrolled": true,
        "id": "b54GcUYX3i5O"
      },
      "outputs": [],
      "source": [
        "!echo \"C-alpha\" | gmx editconf -f data/penetratin.pdb -o calpha.pdb -n index.ndx"
      ]
    },
    {
      "cell_type": "markdown",
      "metadata": {
        "id": "huQYWtAN3i5O"
      },
      "source": [
        "In simpler words, this command is saying:\n",
        "\n",
        "***“Call the editconf utility, read the penetratin.pdb and the index.ndx files, and write the result to calpha.pdb”***"
      ]
    },
    {
      "cell_type": "markdown",
      "metadata": {
        "id": "CUtHE0oJ3i5O"
      },
      "source": [
        "Have a look to the only c-alpha structure:"
      ]
    },
    {
      "cell_type": "code",
      "execution_count": null,
      "metadata": {
        "id": "1jexzDxd3i5O"
      },
      "outputs": [],
      "source": [
        "with open(\"calpha.pdb\") as f:\n",
        "    view = nv.show_file(f, ext=\"pdb\")\n",
        "\n",
        "view.add_representation(\"hyperball\")\n",
        "view"
      ]
    },
    {
      "cell_type": "markdown",
      "metadata": {
        "id": "sf-Ut8aE3i5P"
      },
      "source": [
        "Indeed, editconf will prompt for a group. Choose C-alpha by typing 3 and hitting Enter. Editconf will confirm the selection and write atoms belonging to the C-alpha group to the file calpha.pdb (check it by opening the file with a text editor!). Easy, right?"
      ]
    },
    {
      "cell_type": "markdown",
      "metadata": {
        "id": "DbxrgjEM3i5P"
      },
      "source": [
        "## Prepare file for Gromacs (gmx pdb2gmx)"
      ]
    },
    {
      "cell_type": "markdown",
      "metadata": {
        "id": "FmmMfYxs3i5P"
      },
      "source": [
        "We have to generate a **topology** for the system and convert it to the **.gro file format**.\n",
        "\n",
        "The tool for conversion is **pdb2gmx**. As always, you can use the -h flag to print some help:"
      ]
    },
    {
      "cell_type": "code",
      "execution_count": null,
      "metadata": {
        "id": "pT0bYaud3i5P"
      },
      "outputs": [],
      "source": [
        "!gmx pdb2gmx -h"
      ]
    },
    {
      "cell_type": "markdown",
      "metadata": {
        "id": "EXJsdMu43i5P"
      },
      "source": [
        "The main options of the **pdb2gmx** tool are:\n",
        "> - f: input file (coordinates, so .pdb or .gro)\n",
        "> - p: topology output file (a text file, ending in .top)\n",
        "> - o: structure output file (coordinates after processing, again .pdb or .gro)\n",
        "> - i: position restraints output file (.itp)"
      ]
    },
    {
      "cell_type": "code",
      "execution_count": null,
      "metadata": {
        "scrolled": true,
        "id": "papxXp-R3i5P"
      },
      "outputs": [],
      "source": [
        "!gmx pdb2gmx -f data/penetratin.pdb -i penetratin_posre.itp -p penetratin.top -o penetratin.gro -ff amber99sb-ildn  -ignh -heavyh -water tip3p"
      ]
    },
    {
      "cell_type": "markdown",
      "metadata": {
        "id": "OfaAi17L3i5Q"
      },
      "source": [
        "Let's have a look at all the options of the program:\n",
        "\n",
        "- **ff** : forcefield -> The force field will contain the information that will be written to the topology. This is a very important choice! You should always read thoroughly about each force field and decide which is most applicable to your situation.\n",
        "\n",
        "- **water**: water model chosen among TIP3P, TIP4P, TIP4P-Ew, TIP5P, SPC, SPC/E\n",
        "\n",
        "- **ignh**: it stands for “ignore hydrogens”, so it will ignore all the hydrogens in the input coordinate file\n",
        "\n",
        "- **heavyh**: makes hydrogen atoms heavy to reduce oscillation frequency"
      ]
    },
    {
      "cell_type": "markdown",
      "metadata": {
        "id": "tH2NihnS3i5Q"
      },
      "source": [
        "Have a look at the generated files:"
      ]
    },
    {
      "cell_type": "code",
      "execution_count": null,
      "metadata": {
        "id": "JB4wWR293i5R"
      },
      "outputs": [],
      "source": [
        "!ls -l"
      ]
    },
    {
      "cell_type": "markdown",
      "metadata": {
        "id": "1BmDa5lH3i5R"
      },
      "source": [
        "Have a look at the *.gro file with a text editor to see the differences with the pdb file!"
      ]
    },
    {
      "cell_type": "markdown",
      "metadata": {
        "id": "Po_tKkQ33i5R"
      },
      "source": [
        "# PART 2 - Preparation of the simulation box and environment"
      ]
    },
    {
      "cell_type": "markdown",
      "metadata": {
        "id": "MLXRWFyw3i5S"
      },
      "source": [
        "The files obtained at the end of the last laboratory are contained in the folder `data/part_1`. If you have not run the previous part of the notebook, copy those data in the current folder with the following cell:"
      ]
    },
    {
      "cell_type": "code",
      "execution_count": null,
      "metadata": {
        "id": "zPkh1d3q3i5T"
      },
      "outputs": [],
      "source": [
        "!cp data/part_1/* ."
      ]
    },
    {
      "cell_type": "markdown",
      "metadata": {
        "id": "SNbremTQ3i5T"
      },
      "source": [
        "## Define the simulation box"
      ]
    },
    {
      "cell_type": "markdown",
      "metadata": {
        "id": "2zbY72K53i5T"
      },
      "source": [
        "Now, we defined the parameters and water model to be used in the simulation. The next step in the preparation of the system is to actually put the system in a simulation box with the appropriate shape and dimension.\n",
        "\n",
        "There are several possible shapes of the unit cell, such as the cubic or the dodecahedron. The dodecahedron is sometimes chosen to simulate globular systems, since its volume is ~71% of the cubic box with the same distance between periodic distance.\n",
        "\n",
        "The volume of the box must be optimized in real-life problems because it allows to lower the computational cost of the simulation. Indeed, as we will see in the following steps, the box will be filled with water molecules and ions, thus increasing exponentially the number of atoms in the system.\n",
        "\n",
        "<div class=\"alert alert-block alert-info\"><b>Which terms of the potential energy definition are linked to the exponential growth of the computational cost with the number of atoms in the system?</b></div>"
      ]
    },
    {
      "cell_type": "markdown",
      "metadata": {
        "id": "u89ltvG73i5T"
      },
      "source": [
        "In this tutorial, we will put our protein in the center of a cubic box big enough to have a minimum distance between the protein and the box wall of 0.8 nm.\n",
        "\n",
        "<center> <div class=\"alert alert-block alert-info\"><b>Is this distance enough to respect the minimum image convention?</b></div>"
      ]
    },
    {
      "cell_type": "markdown",
      "metadata": {
        "id": "LtE7dttU3i5T"
      },
      "source": [
        "The GROMACS command that allows us to do this operation is:\n",
        "```bash\n",
        "$ gmx editconf -f penetratin.gro -o box.gro -c -d 0.8 -bt cubic\n",
        "```\n",
        "the above command take the atoms in the file `penetratin.gro`, places the origin of the reference system at their center (`-c`), then builds around them a cubic box (`-bt cubic`) with the constraint that the minimum distance between the atoms of the system and the box wall is 0.8 nm (`-d 0.8`).\n",
        "\n",
        "The `editconf` command allows to manipulate the molecular systems is several different ways and it has a lot of different options, some of them are:\n",
        "\n",
        "|Field|Type|Description|\n",
        "|-----|---------|-----------|\n",
        "|-f|.gro, .pdb| Input structure file |\n",
        "|-n|.ndx| Input index file when you want to consider only a subset of the atoms |\n",
        "|-o|.gro, .pdb| Output structure file |\n",
        "|-bt| \\<enum\\> | Box type for -box and -d: triclinic, cubic, dodecahedron, octahedron |\n",
        "|-box| \\<vector\\> | Box vector lengths. E.g. -box 10 5 20 |\n",
        "|-angles| \\<vector\\> | Angles between box vectors. E.g. -angles 90 30 60 |\n",
        "|-d| \\<real\\> | Distance between the solute and the box |\n",
        "|-c| None | Center molecule in box (implied by -box and -d)|\n",
        "|-align|\\<vector\\>| Align to target vector. E.g. -align 1 0 0. NB: you have to tell GROMACS what to align! |\n",
        "|-translate|\\<vector\\>| Translation of the provided vector |\n",
        "|-rotate|\\<vector\\>| Rotation around the X, Y and Z axes in degrees |\n",
        "|-princ| None |  Orient molecule(s) along their principal axes. NB: you have to tell GROMACS what to orient and use to define the principal axis! |"
      ]
    },
    {
      "cell_type": "code",
      "execution_count": null,
      "metadata": {
        "scrolled": true,
        "id": "8J2zgGub3i5T"
      },
      "outputs": [],
      "source": [
        "!gmx editconf -f penetratin.gro -o box.gro -c -d 0.8 -bt cubic"
      ]
    },
    {
      "cell_type": "markdown",
      "metadata": {
        "id": "GXbOAYXu3i5U"
      },
      "source": [
        "If we now check the last line of the new file we can find the box dimensions:"
      ]
    },
    {
      "cell_type": "code",
      "execution_count": null,
      "metadata": {
        "id": "ClCVjEGw3i5U"
      },
      "outputs": [],
      "source": [
        "!tail -n 1 box.gro"
      ]
    },
    {
      "cell_type": "markdown",
      "metadata": {
        "id": "DR_YNnsJ3i5V"
      },
      "source": [
        "We can also check our new system using VMD. Onces you have opened `box.gro` in VMD show the box using the terminal or the Tk console\n",
        "\n",
        "```bash\n",
        "vmd > pbc box\n",
        "```"
      ]
    },
    {
      "cell_type": "markdown",
      "metadata": {
        "id": "VNE4j8dv3i5V"
      },
      "source": [
        "## Solvation of the system"
      ]
    },
    {
      "cell_type": "markdown",
      "metadata": {
        "id": "mxXbetKg3i5V"
      },
      "source": [
        "Now that the box has been set, we have to introduce the **environment**. We will model the environment as a simple **aqueous system**, but it is possible to use also **different solvents**, provided that good parameters are provided for the species involved. Here, we use an explicit model of water.\n",
        "\n",
        "In the previous laboratory, we have decided to use the TIP3P water model to define the topology of the water molecule. Let's look for a moment at how such water model is defined in the built-in gromacs topologies:"
      ]
    },
    {
      "cell_type": "code",
      "execution_count": null,
      "metadata": {
        "id": "hz28V0Ar3i5V"
      },
      "outputs": [],
      "source": [
        "%%bash\n",
        "dd=$(gmx --version | grep \"Data prefix:\" | cut -d \":\" -f 2)\n",
        "cat $dd/share/gromacs/top/amber99sb-ildn.ff/tip3p.itp | head -n 10"
      ]
    },
    {
      "cell_type": "markdown",
      "metadata": {
        "id": "R5ZE9F4n3i5V"
      },
      "source": [
        "- the default name, under the **[ moleculetype ]** section is **SOL**. Keep that in mind for a moment;\n",
        "- the water molecule is made of three atoms, one oxygen and two hydrogens. You can observe that the definition of such atoms under the panel **[ atoms ]**. Notice that the two hydrogen are of the same _atom type_, which means that they are modelled with the same parameters. However, two different _atom names_ are present since they represent two atoms of the same \"residue\";\n",
        "- the water \"residue\" is named **SOL**"
      ]
    },
    {
      "cell_type": "markdown",
      "metadata": {
        "id": "5fPJZxox3i5W"
      },
      "source": [
        "In this topology you can also find the _bond_ and _angle_ paramters:"
      ]
    },
    {
      "cell_type": "code",
      "execution_count": null,
      "metadata": {
        "id": "N5ppzkmm3i5W"
      },
      "outputs": [],
      "source": [
        "%%bash\n",
        "dd=$(gmx --version | grep \"Data prefix:\" | cut -d \":\" -f 2)\n",
        "cat $dd/share/gromacs/top/amber99sb-ildn.ff/tip3p.itp | tail -n 12 | head -n -1"
      ]
    },
    {
      "cell_type": "markdown",
      "metadata": {
        "id": "QoyWIPl33i5W"
      },
      "source": [
        "Here we can read the parameters to model the bonded interaction between the atoms of the **TIP3P water molecule**.\n",
        "Notice that the two _bond_ parameters are identical since they represent the same bond between hydrogen and oxygen.\n",
        "Finally, in a topology you could also find the `[ pairs ]` field, which indicates the pairs of atoms among which a non-bonded short-range interaction should be modelled. An example is:\n",
        "```bash\n",
        "[ pairs ]\n",
        ";   ai     aj    funct\n",
        "     1      9      1 ;      C - P     \n",
        "     2      6      1 ;     H1 - H4    \n",
        "     2      7      1 ;     H1 - H5    \n",
        "     2      8      1 ;     H1 - O\n",
        "```\n",
        "In this example, you can see that the filed `funct` is set to 1 for each interaction. This is the way in which gromacs stores in the topology to model the interaction with the Lennard-Jones potential. The parameters are taken from the atomtypes definition."
      ]
    },
    {
      "cell_type": "markdown",
      "metadata": {
        "id": "JXYfmEnl3i5X"
      },
      "source": [
        "\n",
        "After this initial consideration, we can solvate the system, i.e. fill the box with water. The GROMACS command that allows us to do this operation is:\n",
        "```bash\n",
        "$ gmx solvate -cp box.gro -o solvated.gro -p topol.top [-cs spc216.gro]\n",
        "```\n",
        "The above command take the system contained in the file `box.gro`, fills the unit cell with water molecules avoiding clasches between the inserted molecules and the atoms already present in the system, writes the output file in `solvated.gro`, then counts how many water molecules have been placed and updates the provided topology file (`-p topol.top`). The argument `-cs spc216.gro` in between brackets since it is optional: if nothing is told to GROMACS, it will use this simple equilibrated 3-point solvent model which can be used fro SPC and TIP3P water models. The file `spc216.gro` is present in the built-in gromacs libraries.\n",
        "\n",
        "With the `solvate` command, you can also insert only a shell of water molecules around the protein specifying `-shell <radius>`."
      ]
    },
    {
      "cell_type": "code",
      "execution_count": null,
      "metadata": {
        "scrolled": true,
        "id": "rh2HyuCn3i5X"
      },
      "outputs": [],
      "source": [
        "!gmx solvate -cp box.gro -o solvated.gro -p penetratin.top"
      ]
    },
    {
      "cell_type": "markdown",
      "metadata": {
        "id": "CcXCEww23i5X"
      },
      "source": [
        "Let's look at the output file and the updated topology:"
      ]
    },
    {
      "cell_type": "code",
      "execution_count": null,
      "metadata": {
        "id": "t2rzMtGx3i5Y"
      },
      "outputs": [],
      "source": [
        "!tail -n 20 solvated.gro"
      ]
    },
    {
      "cell_type": "code",
      "execution_count": null,
      "metadata": {
        "id": "EfCbTMv13i5a"
      },
      "outputs": [],
      "source": [
        "import nglview as nv\n",
        "with open(\"solvated.gro\") as f:\n",
        "    view = nv.show_file(f, ext=\"gro\")\n",
        "view.add_ball_and_stick(selection=\"water\")\n",
        "view.camera = 'orthographic'\n",
        "view"
      ]
    },
    {
      "cell_type": "code",
      "execution_count": null,
      "metadata": {
        "id": "vOo9cZGz3i5a"
      },
      "outputs": [],
      "source": [
        "!tail  -n 5 penetratin.top"
      ]
    },
    {
      "cell_type": "markdown",
      "metadata": {
        "id": "s0Iy7fw93i5a"
      },
      "source": [
        "<div class=\"alert alert-block alert-warning\"><b>Important observation</b><br>As you have seen, GROMACS have updated the topology file to take count of the modification that we have done on the system. The old topology file is not lost, it is saved as #topol.top.1#.</div>\n",
        "<br>\n",
        "<div class=\"alert alert-block alert-danger\"><b>Important observation</b><br> GROMACS is a fantastic computer program, but still a computer program. This means that it does what you tell him. If you repeat the command above two times, GROMACS will take the empty box, fill it and update the topol.top file two times. This will result in a topology file containing double the water that is actually present in the solvated.gro file. This will generate a <b>Fatal Error</b> in the following steps.</div>"
      ]
    },
    {
      "cell_type": "markdown",
      "metadata": {
        "id": "nn5Y-oHE3i5b"
      },
      "source": [
        "### Influence of the box shape and dimension on system size"
      ]
    },
    {
      "cell_type": "markdown",
      "metadata": {
        "id": "wNMgTnEI3i5b"
      },
      "source": [
        "We have told you before that the dodecahedric box allows to reduce the volume of the system and reduce the computational cost of the simulation. Let's now look in practice at the amount of water molecules that would have been added using a dodecahedric box.\n",
        "\n",
        "Since we do not wat to mess with the filed produced until now, let's move everything in a folder."
      ]
    },
    {
      "cell_type": "code",
      "execution_count": null,
      "metadata": {
        "id": "CJ7dR1Nq3i5b"
      },
      "outputs": [],
      "source": [
        "%%bash\n",
        "ls"
      ]
    },
    {
      "cell_type": "code",
      "execution_count": null,
      "metadata": {
        "id": "vmvlfMbO3i5b"
      },
      "outputs": [],
      "source": [
        "%%bash\n",
        "# backup everything in a folder\n",
        "mkdir -p cubic_box\n",
        "mv box.gro solvated.gro penetratin.top \\#penetratin.top.1# cubic_box/\n",
        "\n",
        "# restore the original topology (only protein and not water inside) -> remove last line of the topology (SOL)\n",
        "cat cubic_box/penetratin.top | head -n -1 >penetratin.top\n",
        "\n",
        "# now, repeat everything with different box\n",
        "gmx editconf -f penetratin.gro -o dodecahedron.gro -c -d 0.8 -bt dodecahedron > /dev/null 2>&1\n",
        "gmx solvate -cp dodecahedron.gro -o dodecahedron_solvated.gro -p penetratin.top > /dev/null 2>&1\n",
        "\n",
        "# Let's look at the new topology\n",
        "tail -n 5 penetratin.top"
      ]
    },
    {
      "cell_type": "markdown",
      "metadata": {
        "id": "4ZP0TJBV3i5c"
      },
      "source": [
        "From now on, we will use the system solvated in the dodecahedric box."
      ]
    },
    {
      "cell_type": "markdown",
      "metadata": {
        "id": "c4kQnNYK3i5d"
      },
      "source": [
        "## Adding ions to the system"
      ]
    },
    {
      "cell_type": "markdown",
      "metadata": {
        "id": "La8tmLSd3i5d"
      },
      "source": [
        "As a last step, it makes sense to add a proper amount of $Na^+$ and $Cl^-$ ions in the system. There are two main reasons:\n",
        "1. Make the system neutral should it be charged (by adding the proper amount of counterions);\n",
        "2. Simulating physiological salt concentrations (around 0.15M).\n",
        "\n",
        "GROMACS has a specific tool to do that, which is called `genion`. The only caveat is that `genion` needs a **.tpr** input file to work.\n",
        "\n",
        "You can think of the .tpr file as the union of a .gro file (containing coordinates), a .top file (containing topology), and an .mdp file (containing simulation parameters)."
      ]
    },
    {
      "cell_type": "markdown",
      "metadata": {
        "id": "q7uTnjSC3i5d"
      },
      "source": [
        "<br>\n",
        "<font size=\"12\"> <center><b>IMPORTANT</b></center></font>\n",
        "\n",
        "To run any sort of simulation, you need:\n",
        "1. A coordinate file, like a .gro, which contains the system to be simulated (**WHAT SYSTEM**)\n",
        "2. A topology, like a .top, which contains the parameters to model such a system (**WHAT MODEL**)\n",
        "3. A run parameter file, like an .mdp, which contains instructions for the simulation, like the timestep to use, the cutoffs, the total simulation time, etc. (**HOW TO SIMULATE**)\n",
        "\n",
        "These three basic ingredients of any simulation (.gro, .top, .mdp) can then be combined into a single file (the .tpr file), so that the engine carrying out the simulations (which is `gmx mdrun`) has all the necessary information in one single file."
      ]
    },
    {
      "cell_type": "markdown",
      "metadata": {
        "id": "EPvtOMi23i5d"
      },
      "source": [
        "To see how this works, let’s create a dummy .mdp file, and leave it empty for now:\n",
        "```bash\n",
        "$ touch dummy.mdp\n",
        "```\n",
        "Note that we need the tpr file to add ions to the system, not to run a simulation. This is the reason why we use a dummy .mdp file. Then, we can try to create our .tpr file, since we have all the necessary ingredients (the .gro, .top and .mdp files). `gmx grompp` (which stands for gromacs pre-processor) does that:\n",
        "\n",
        "```bash\n",
        "$ gmx grompp -f dummy.mdp -c dodecahedron_solvated.gro -p penetratin.top -o ions.tpr\n",
        "```"
      ]
    },
    {
      "cell_type": "code",
      "execution_count": null,
      "metadata": {
        "id": "AbX9EGee3i5d"
      },
      "outputs": [],
      "source": [
        "%%bash\n",
        "touch dummy.mdp\n",
        "gmx grompp -f dummy.mdp -c dodecahedron_solvated.gro -p penetratin.top -o ions.tpr"
      ]
    },
    {
      "cell_type": "markdown",
      "metadata": {
        "id": "_q5XZqxs3i5e"
      },
      "source": [
        "In this  case, the tpr file will contain default simulation parameters since our dummy.mdp file was empty.\n",
        "\n",
        "**NOTE**:  grompp  will  check  that  the  topology  .top  and  coordinates  .gro  indeed  contain  the  same  number  of atoms (i.e. the topology represents the system in the coordinate file). If this is not the case, it will throw an error saying that the number of atoms doesn’t match, and it won’t generate the .tpr. If this happens to you, you likely messed something up during solvation and the number of water molecules in the topology don’t correspond to the ones in the coordinate file. It’s best, in this case,to delete the SOL line in the topology, and start over with the solvation."
      ]
    },
    {
      "cell_type": "markdown",
      "metadata": {
        "id": "XL6reOfi3i5e"
      },
      "source": [
        "Now, we can fill the solvated dodecahedron with ions at the proper concentration:\n",
        "```\n",
        "$ gmx genion -s ions.tpr -p penetratin.top -o box_ions.gro -conc 0.15 -neutral [-pname NA -nname CL]\n",
        "```\n",
        "\n",
        "The above command takes the input `ions.tpr` that contains the solvated box, then tries to fill it with ions so that the system is electrostatically neutral (`-neutral`) and the total salt concentration in 0.15 mol/L (`-conc 0.15`). While doing so, it also update the topology (`-p penetratin.top`), and save the new system with water and ions into `box_ions.gro`.\n",
        "\n",
        "Genion will ask you for the group of solvent molecules to insert the ions into, so we select group 13 (SOL). Since here in Colab there is not interactive shell, we have agains to exploit the pipe to provide such input."
      ]
    },
    {
      "cell_type": "code",
      "execution_count": null,
      "metadata": {
        "id": "o5c_TDHa3i5e"
      },
      "outputs": [],
      "source": [
        "%%bash\n",
        "echo \"SOL\" | gmx genion -s ions.tpr -p penetratin.top -o box_ions.gro -conc 0.15 -neutral"
      ]
    },
    {
      "cell_type": "markdown",
      "metadata": {
        "id": "GwZ05iW43i5e"
      },
      "source": [
        "Note that genion also takes the topology file as input, and updates it with the added amount of NA and CL molecules (open the topology and check!). Be careful to **run only one time** the command, since gromacs does not know if the atoms are already present in the system; otherwise:\n",
        "1. the `penetratin.top` file will be updated more than one time by gromacs, which will each time remove water and add ions;\n",
        "2. the `ions.tpr` file remains always the same, therefore each time a new `box_ions.gro` file will be written where ions have been added one time.\n",
        "\n",
        "In the end, you will find a mismatch between coordinates and topology $\\rightarrow$ **Fatal Error!**"
      ]
    },
    {
      "cell_type": "markdown",
      "metadata": {
        "id": "30l21IIY3i5e"
      },
      "source": [
        "Now, let's have a look at the final system!"
      ]
    },
    {
      "cell_type": "code",
      "execution_count": null,
      "metadata": {
        "id": "skGyj_7z3i5e"
      },
      "outputs": [],
      "source": [
        "with open(\"box_ions.gro\") as f:\n",
        "    view = nv.show_file(f, ext=\"gro\")\n",
        "view.add_licorice(selection=\"water\")\n",
        "view.add_ball_and_stick(selection=\"NA\",color='blue',aspectRatio='5')\n",
        "view.add_ball_and_stick(selection=\"CL\",color='green',aspectRatio='5')\n",
        "view.camera = 'orthographic'\n",
        "view"
      ]
    },
    {
      "cell_type": "markdown",
      "metadata": {
        "id": "i995C_Au3i5f"
      },
      "source": [
        "<font size=\"5\"> <center><b>Exercise for you</b></center></font>\n",
        "Let's put in practise what you have learned until now with an hands-on."
      ]
    },
    {
      "cell_type": "markdown",
      "metadata": {
        "id": "9huIX3Ig3i5f"
      },
      "source": [
        "Lysozyme is an antimicrobial enzyme produced by animals that forms part of the innate immune system, by catalyzing the hydrolysis of peptidoglycan of bacterial cell wall. Lysozyme is abundant in secretions including tears, saliva, and human milk and is very used as a system where to test new methodologies due to the large availability of experimental data.\n",
        "Do the following steps:\n",
        "1. Download the Lysozyme structure from the Protein Data Bank, code 5LSH\n",
        "2. Observe the structure that you have downloaded. Is there only the protein or also other molecules?\n",
        "3. If there is something else other than the protein, create a new pdb file containing only lysozyme structure.\n",
        "4. Import the pdb file in gromacs and generate its topology\n",
        "5. Generate a simulation box with the appropriate dimension and fill it with a physiological environment\n",
        "\n",
        "It is recommended to create a new folder for the exercise"
      ]
    },
    {
      "cell_type": "markdown",
      "metadata": {
        "id": "g4bOYZim3i5f"
      },
      "source": [
        "**Solution**\n",
        "\n",
        "First, we have to go to the Protein Data Bank and download our file in the pdb format. There are two possibilities:\n",
        "1. Download from the PDB and then upload the file into Colab\n",
        "2. Use the wget command to directly download it into Colab\n",
        "\n",
        "We will use the second option here"
      ]
    },
    {
      "cell_type": "code",
      "execution_count": null,
      "metadata": {
        "id": "iNPDucFe3i5f"
      },
      "outputs": [],
      "source": [
        "!wget https://files.rcsb.org/download/5LSH.pdb &> /dev/null"
      ]
    },
    {
      "cell_type": "code",
      "execution_count": null,
      "metadata": {
        "id": "vx_S6PLP3i5g"
      },
      "outputs": [],
      "source": [
        "# Let's look at the file\n",
        "with open(\"5LSH.pdb\") as f:\n",
        "    view = nv.show_file(f, ext=\"pdb\")\n",
        "view.add_licorice(selection=\"not protein\")\n",
        "view.camera = 'orthographic'\n",
        "view"
      ]
    },
    {
      "cell_type": "markdown",
      "metadata": {
        "id": "UNyj0FIK3i5g"
      },
      "source": [
        "Since there is not only a protein but also a ligand and water into the pdb file, let's first extract the protein. To do so, we create and index and use it to create a file containing ongly the lysozyme."
      ]
    },
    {
      "cell_type": "code",
      "execution_count": null,
      "metadata": {
        "id": "718NebTb3i5g"
      },
      "outputs": [],
      "source": [
        "%%bash\n",
        "mkdir exercise\n",
        "mv 5LSH.pdb exercise/\n",
        "cd exercise/\n",
        "echo \"q\" | gmx make_ndx -f 5LSH.pdb -o index.ndx > /dev/null 2>&1\n",
        "echo \"Protein\" | gmx editconf -f 5LSH.pdb -o protein.pdb -n index.ndx > /dev/null 2>&1"
      ]
    },
    {
      "cell_type": "markdown",
      "metadata": {
        "id": "5v3UtR6W3i5g"
      },
      "source": [
        "Now we can convert the pdb file into the GROMACS format and generate the topology.\n",
        "\n",
        "**Note**: The PDB file that we are considering contains, for some protein residues, two possible positions (i.e., alternate locations). This is due to the fact that for some atoms, the crystallographic experiment gave information about two possible positions. GROMACS automatically keeps the first position in the pdb file and ignores all the others for the same atom. Sometimes it is worth looking at the alternated locations and select which one to consider, e.g., when these residues are in/near the binding site of interest."
      ]
    },
    {
      "cell_type": "code",
      "execution_count": null,
      "metadata": {
        "id": "oL8bH_Z83i5h"
      },
      "outputs": [],
      "source": [
        "%%bash\n",
        "cd exercise/\n",
        "gmx pdb2gmx -f protein.pdb -o protein.gro -p topol.top -i posre.itp -ignh -heavyh -ff amber99sb-ildn -water tip3p > /dev/null 2>&1"
      ]
    },
    {
      "cell_type": "markdown",
      "metadata": {
        "id": "rZgIYTP73i5h"
      },
      "source": [
        "Finally, create the box, solvate, and add ions."
      ]
    },
    {
      "cell_type": "code",
      "execution_count": null,
      "metadata": {
        "id": "zJMzfVFG3i5h"
      },
      "outputs": [],
      "source": [
        "%%bash\n",
        "cd exercise/\n",
        "gmx editconf -f protein.gro -o box.gro -bt cubic -d 0.8\n",
        "gmx solvate -cp box.gro -p topol.top -o solvated.gro\n",
        "touch dummy.mdp\n",
        "gmx grompp -f dummy.mdp -c solvated.gro -p topol.top -o ions.tpr\n",
        "echo \"SOL\" | gmx genion -s ions.tpr -o system.gro -p topol.top -pname NA -nname CL -conc 0.15 -neutral"
      ]
    },
    {
      "cell_type": "code",
      "execution_count": null,
      "metadata": {
        "scrolled": true,
        "id": "Bp2fDZnn3i5h"
      },
      "outputs": [],
      "source": [
        "with open(\"exercise/system.gro\") as f:\n",
        "    view = nv.show_file(f, ext=\"gro\")\n",
        "view.add_licorice(selection=\"water\")\n",
        "view.add_ball_and_stick(selection=\"NA\",color='blue',aspectRatio='5')\n",
        "view.add_ball_and_stick(selection=\"CL\",color='green',aspectRatio='5')\n",
        "view.camera = 'orthographic'\n",
        "view"
      ]
    },
    {
      "cell_type": "markdown",
      "metadata": {
        "id": "RPjwbut_3i5i"
      },
      "source": [
        "# PART 3 - Energy minimization, Position Restraint, Production"
      ]
    },
    {
      "cell_type": "code",
      "execution_count": null,
      "metadata": {
        "code_folding": [
          0
        ],
        "id": "NlazZ5ym3i5i"
      },
      "outputs": [],
      "source": [
        "#@title Visualize the system\n",
        "import nglview as nv\n",
        "with open(\"data/system.pdb\") as f:\n",
        "    view = nv.show_file(f, ext=\"pdb\")\n",
        "view.add_representation(\"ball+stick\",selection=\"water\")\n",
        "view.add_representation(\"ball+stick\",selection=\"ion\",aspectRatio='10')\n",
        "view.center(\"system\")\n",
        "view"
      ]
    },
    {
      "cell_type": "markdown",
      "metadata": {
        "id": "27aE_n_C3i5i"
      },
      "source": [
        "The files obtained at the end of the last laboratory are contained in the folder `data/part_2`. If you have not run the previous part of the notebook, copy those data in the current folder with the following cell:"
      ]
    },
    {
      "cell_type": "code",
      "execution_count": null,
      "metadata": {
        "id": "n_eL1f813i5i"
      },
      "outputs": [],
      "source": [
        "%%bash\n",
        "mkdir -p system\n",
        "cp -r data/part_2/* system/"
      ]
    },
    {
      "cell_type": "markdown",
      "metadata": {
        "id": "ipAmY0Qq3i5i"
      },
      "source": [
        "The solvated, electroneutral system is now assembled.\n",
        "\n",
        "Before we can begin dynamics, we must ensure that the system has no steric clashes or inappropriate geometry. The structure is relaxed through a process called **energy minimization** (EM).\n",
        "\n",
        "To perform energy minimization, we are once again going to use grompp to assemble the structure, topology, and simulation parameters into a binary input file (`.tpr`), then we will use GROMACS MD engine, mdrun, to run the energy minimization."
      ]
    },
    {
      "cell_type": "markdown",
      "metadata": {
        "id": "-E4iZLSk3i5j"
      },
      "source": [
        "We will use the steepest descent algorithm to perform the energy minimization.\n",
        "To keep things organized, we will do the EM in its own subfolder, so let’s\n",
        "create it:\n"
      ]
    },
    {
      "cell_type": "code",
      "execution_count": null,
      "metadata": {
        "id": "oYFV6EqJ3i5j"
      },
      "outputs": [],
      "source": [
        "%%bash\n",
        "mkdir -p 00-em"
      ]
    },
    {
      "cell_type": "markdown",
      "metadata": {
        "id": "wP2nZMqb3i5j"
      },
      "source": [
        "## Exploring the mdp file"
      ]
    },
    {
      "cell_type": "markdown",
      "metadata": {
        "id": "G5glS-gR3i5j"
      },
      "source": [
        "Assemble the binary input using grompp using the .mdp parameter file, as input. The simulation parameter file (.mdp) determines how the simulation shall be run. Find more information on all the options in the [manual](http://manual.gromacs.org/documentation/current/user-guide/mdp-options.html).\n",
        "\n",
        "There are a lot of parameters that can be set, here we ony set the elemental parametes and leave everything else as default. Let's have a look at the input file:"
      ]
    },
    {
      "cell_type": "code",
      "execution_count": null,
      "metadata": {
        "id": "yhdbCotG3i5j"
      },
      "outputs": [],
      "source": [
        "! cat data/mdp/em.mdp"
      ]
    },
    {
      "cell_type": "markdown",
      "metadata": {
        "id": "grVCYcdZ3i5j"
      },
      "source": [
        "This file contains the instructions to perform energy minimization. In particular, the most relevant lines are:\n",
        "\n",
        "\n",
        "* `integrator` = `steep`\n",
        "\n",
        "\n",
        "...\n",
        "\n",
        "\n",
        "* `nsteps` = `1000`\n",
        "\n",
        "...\n",
        "\n",
        "\n",
        "* `emtol` =  `1000`\n",
        "\n",
        "\n",
        "Which mean respectively:\n",
        "* **steep**: use the steepest descent algorithm <span style=\"color:red\">**(actually, it isn’t strictly an integrator as for the md code)**</span>\n",
        "\n",
        "<center> <b>STOP CONDITION</b> </center>\n",
        "\n",
        "\n",
        "* do the energy minimization for a maximum of 1000 steps (**nsteps**)\n",
        "\n",
        "<center> <b>OR</b> </center>\n",
        "\n",
        "* until the maximum force drops below 1000 $ \\frac{kJ}{mol*nm}\n",
        "$ (**emtol**).\n"
      ]
    },
    {
      "cell_type": "markdown",
      "metadata": {
        "id": "QH8TrajK3i5k"
      },
      "source": [
        "## Energy minimization procedure"
      ]
    },
    {
      "cell_type": "markdown",
      "metadata": {
        "id": "UU_9eA753i5k"
      },
      "source": [
        "Again, we are in a situation where we have everything we need for a simulation (coordinates, topology and\n",
        "parameters) and we need to merge them into a single file. What do we do? You guessed it, we generate a `*.tpr`\n",
        "with grompp:\n"
      ]
    },
    {
      "cell_type": "code",
      "execution_count": null,
      "metadata": {
        "id": "pibksXmo3i5k"
      },
      "outputs": [],
      "source": [
        "%%bash\n",
        "gmx grompp -f data/mdp/em.mdp -p system/penetratin.top -c system/box_ions.gro -o 00-em/em.tpr"
      ]
    },
    {
      "cell_type": "markdown",
      "metadata": {
        "id": "Bd6466U23i5l"
      },
      "source": [
        "Know we can feed the unified input file (`em.tpr`) into the engine doing the actual calculations, which is `gmx mdrun`. In genral, mdrun takes many parameters, such as:\n",
        "* s input file (.tpr).\n",
        "* o output file (trajectory, not important in minimization)\n",
        "* e output file (energy)\n"
      ]
    },
    {
      "cell_type": "code",
      "execution_count": null,
      "metadata": {
        "id": "OzNT6ba_3i5l"
      },
      "outputs": [],
      "source": [
        "! gmx mdrun -h"
      ]
    },
    {
      "cell_type": "markdown",
      "metadata": {
        "id": "z51Uwa6h3i5l"
      },
      "source": [
        "If you noticed though, we called the tpr file with the name em.tpr. The mdrun tool has a very useful option called\n",
        "`-deffnm`, which stands for “define file names”: with this option, you can tell mdrun that all the required input files\n",
        "(e.g. the *.tpr) and all the produced output files (e.g. *.xtc, *.edr, *.gro, ...) will all have the same name (with\n",
        "the proper extension). This means that you don’t have to tell mdrun explicitly all the input and output file names.\n",
        "For example, if you set:\n",
        "... -deffnm em ...\n",
        "mdrun will:\n",
        "\n",
        "\n",
        "1. Look for em.tpr as the input file\n",
        "\n",
        "1. Name the output files em.xtc, em.trr, em.gro, em.edr, etc..."
      ]
    },
    {
      "cell_type": "markdown",
      "metadata": {
        "id": "ETIzQtcz3i5m"
      },
      "source": [
        "This is way quicker than specifying all the file names explicitly, and this is what we will do. Run the minimization:\n",
        "\n",
        "**`$ gmx mdrun -deffnm 00-em/em -v`**\n",
        "\n",
        "Which means: “run the calculations on the em.tpr input file and save all the outputs with the root name em (-\n",
        "deffnm em). Also, tell me what you’re doing while you’re running (verbose mode, -v)”.\n",
        "GROMACS will start the energy minimization calculation and will stop once the force drops below the emtol\n",
        "setting or once the maximum number of steps is reached (whatever happens first!)."
      ]
    },
    {
      "cell_type": "code",
      "execution_count": null,
      "metadata": {
        "id": "ZkA4QVvC3i5m"
      },
      "outputs": [],
      "source": [
        "!gmx mdrun -s 00-em/em.tpr -deffnm 00-em/em -v -ntmpi 2"
      ]
    },
    {
      "cell_type": "code",
      "execution_count": null,
      "metadata": {
        "scrolled": true,
        "id": "3aprBjS43i5n"
      },
      "outputs": [],
      "source": [
        "!ls 00-em/"
      ]
    },
    {
      "cell_type": "markdown",
      "metadata": {
        "id": "A_aL_Orh3i5n"
      },
      "source": [
        "## Analysing Energy Minimization Data"
      ]
    },
    {
      "cell_type": "markdown",
      "metadata": {
        "id": "67m_x1oi3i5n"
      },
      "source": [
        "Once the energy minimization has finished, we have to check that our system actually reached a low potential\n",
        "energy and plateaued at that level, i.e. that nothing went wrong during the minimization, that the number of steps\n",
        "was sufficient to reach a minimized potential energy, and that we can proceed further.\n",
        "\n",
        "To view the potential energy as a function of the number of minimization steps, we need to use gmx energy, which is a tool that extracts energy data from the `.edr` file and prints it in ASCII format (for example as a tab-separated xy data file) which can then be plotted.\n",
        "\n",
        "Let’s extract the energies:"
      ]
    },
    {
      "cell_type": "code",
      "execution_count": null,
      "metadata": {
        "scrolled": false,
        "id": "f_2MHc0g3i5o"
      },
      "outputs": [],
      "source": [
        "!gmx energy -h"
      ]
    },
    {
      "cell_type": "code",
      "execution_count": null,
      "metadata": {
        "id": "wzdRgjlb3i5o"
      },
      "outputs": [],
      "source": [
        "!echo -e \"Potential \\n 0\" | gmx energy -f 00-em/em.edr -o 00-em/potential.xvg"
      ]
    },
    {
      "cell_type": "code",
      "execution_count": null,
      "metadata": {
        "id": "mH1Y4n5k3i5o"
      },
      "outputs": [],
      "source": [
        "!cat 00-em/potential.xvg"
      ]
    },
    {
      "cell_type": "code",
      "execution_count": null,
      "metadata": {
        "id": "CqxpDGOF3i5o"
      },
      "outputs": [],
      "source": [
        "import matplotlib.pyplot as plt # Import from the library matplotlib  the package pyplot and alias it as plt\n",
        "import numpy as np #import the library numpy and alias it as np\n",
        "'''load the data from the potential.xvg format into data, ...\n",
        "define the comments as raw starting with either # or @'''\n",
        "data=np.loadtxt(\"00-em/potential.xvg\",comments=[\"#\",\"@\"])\n",
        "step=data[:,0] #assign the first column of data to the variable step\n",
        "energy=data[:,1] #assign the second column of data to the variable potential\n",
        "plt.plot(step,energy) #plot the function potential(data)\n",
        "plt.xlabel(\"Step\",size=14) #assign the x label\n",
        "plt.ylabel(\"Energy [KJ/mol]\",size=14) #assign the y label\n",
        "plt.title(\"Potential energy as a function of step\"); #assign a title\n",
        "#save the figure in png format with a resolution of 300 dot per inch \"dpi\"\n",
        "plt.savefig(\"00-em/potential.png\",format=\"png\", dpi=300)"
      ]
    },
    {
      "cell_type": "markdown",
      "metadata": {
        "id": "ovW8xZn53i5o"
      },
      "source": [
        "## Position Restraint"
      ]
    },
    {
      "cell_type": "markdown",
      "metadata": {
        "id": "VRddhvD73i5o"
      },
      "source": [
        "EM ensured that we have a reasonable starting structure, in terms of geometry and solvent orientation.\n",
        "\n",
        "To begin real dynamics, we must equilibrate the solvent and ions around the protein.\n",
        "\n",
        "If we were to attempt unrestrained dynamics at this point, the system may collapse. The reason is that the solvent is mostly optimized within itself, and not necessarily with the solute.\n",
        "\n",
        "It needs to be brought to the temperature we wish to simulate.\n",
        "\n"
      ]
    },
    {
      "cell_type": "code",
      "execution_count": null,
      "metadata": {
        "id": "iVuzB-CC3i5p"
      },
      "outputs": [],
      "source": [
        "%%bash\n",
        "mkdir 01-posres"
      ]
    },
    {
      "cell_type": "markdown",
      "metadata": {
        "id": "EvwcglTf3i5p"
      },
      "source": [
        "Input files required to run a Molecular Dynamics (MD) simulation are again\n",
        "a molecular structure, a topology and a files with simulation settings:\n",
        "1. (minimized) structure file (`minimized.gro`)\n",
        "1. topology file (`penetratin.top`)\n",
        "1. molecular dynamics parameters file (`posre.mdp/md.mdp`)"
      ]
    },
    {
      "cell_type": "markdown",
      "metadata": {
        "id": "eVWId0fv3i5p"
      },
      "source": [
        "Remember that `posre.itp` file that `pdb2gmx` generated a long time ago? We're going to use it now. The purpose of posre.itp is to apply a position restraining force on the heavy atoms of the protein (anything that is not hydrogen). Movement is permitted, but the particle will feel a harmonic potential that will tend to keep it around the initial position.\n",
        "\n",
        "$V_{pr}(r_i)=\\frac{1}{2}k_{pr}|r_i-R_i|^2$\n",
        "\n",
        "Where $R_i$ is the reference position and the $k_{pr}$ is the Force constant proportional to the strenght of the potential applied.\n",
        "\n",
        "<img src=\"https://manual.gromacs.org/current/_images/f-pr.png\" width=\"500\" align=\"center\">\n",
        "\n"
      ]
    },
    {
      "cell_type": "code",
      "execution_count": null,
      "metadata": {
        "id": "an8-IEWh3i5q"
      },
      "outputs": [],
      "source": [
        "!cat system/penetratin_posre.itp"
      ]
    },
    {
      "cell_type": "markdown",
      "metadata": {
        "id": "nZ8AM6AB3i5q"
      },
      "source": [
        "The utility of position restraints is that they allow us to equilibrate our solvent around our protein, without the added variable of structural changes in the protein.\n",
        "\n",
        "The origin of the position restraints (the coordinates at which the restraint potential is zero) is provided via a coordinate file passed to the -r option of `grompp`.\n",
        "\n",
        "We’ll use the file `posre.mdp` which contains the parameters for a molecular dynamics simulation with position\n",
        "restraints.\n",
        "\n",
        "Have a look to posre.mdp:"
      ]
    },
    {
      "cell_type": "code",
      "execution_count": null,
      "metadata": {
        "scrolled": true,
        "id": "ltzZIojN3i5q"
      },
      "outputs": [],
      "source": [
        "!cat data/mdp/posre.mdp"
      ]
    },
    {
      "cell_type": "code",
      "execution_count": null,
      "metadata": {
        "id": "vXH0EVhX3i5r"
      },
      "outputs": [],
      "source": [
        "!tail -n 29 system/penetratin.top"
      ]
    },
    {
      "cell_type": "markdown",
      "metadata": {
        "id": "QFe8dOo63i5r"
      },
      "source": [
        "We will perform a Molecular dynamic simulation integrating the equation of motion with the leap frog algorithm `integrator=md`. We have to choose the step of integration for the equation of motion `dt=` and define the total numbers of step of simulation `nsteps`.\n",
        "\n",
        "How do I calculate the time for which I am simulating?\n",
        "\n",
        "$t_{tot}=dt*nsteps$\n",
        "\n",
        "where $t_{tot}$ is the total simulation time, dt is the integration step and nsteps is the total number of steps"
      ]
    },
    {
      "cell_type": "code",
      "execution_count": null,
      "metadata": {
        "id": "-SI7C-4U3i5r"
      },
      "outputs": [],
      "source": [
        "dt=0.01 #step of integration\n",
        "nsteps=20000 #total number of steps\n",
        "tot=dt*nsteps #total simulation time\n",
        "print(f\"The total simulation time will be {tot}, which is the unit of measure?\")"
      ]
    },
    {
      "cell_type": "markdown",
      "metadata": {
        "id": "oBeN7FPn3i5r"
      },
      "source": [
        "<div class=\"alert alert-block alert-info\"><center><b> What about the initial velocities?</b></center><div>"
      ]
    },
    {
      "cell_type": "markdown",
      "metadata": {
        "id": "OiPD980K3i5s"
      },
      "source": [
        "There are two possible strategies\n",
        "1. Start with initial velocity equal to zero for all the atoms in the simulation environment and coupling with a thermostat\n",
        "1. Assign to the atoms initial velocity so that the distribution of the velocity is equal to a Maxwell-Boltzmann distribution at a given temperature $p(\\it{v}_i)$\n",
        "\n",
        "\n",
        "<div><center>$p(\\it{v}_i)=\\sqrt{\\frac{m_i}{2\\pi kT}}\\exp{\\left(- \\frac{m_i\\it{v}_{i}^2}{2kT}\\right)}$</center> </div>\n",
        "<br>\n",
        "\n",
        "\n",
        "<div class=\"alert alert-block alert-danger\"><center><b>ATTENTION! NERD TIME</b></center>\n",
        "    \n",
        "To accomplish this second possibility, normally distributed random numbers are generated by adding twelve random numbers $R_K$ in the range 0 ≤$R_K$< 1 and subtracting 6.0 from their sum. The result is then multiplied by the standard deviation of the velocity distribution $\\sqrt{\\frac{𝑘𝑇}{𝑚_𝑖}}$. Since the resulting total energy will not correspond exactly to the required temperature $T$, a correction is made: first the center-of-mass motion is removed and then all velocities are scaled so that the total energy corresponds exactly to $T$.\n",
        "\n",
        " </div>\n",
        "\n"
      ]
    },
    {
      "cell_type": "code",
      "execution_count": null,
      "metadata": {
        "id": "PWGxro2o3i5s"
      },
      "outputs": [],
      "source": [
        "%%bash\n",
        "gmx grompp -f data/mdp/posre.mdp -c 00-em/em.gro -r 00-em/em.gro -p system/penetratin.top -o 01-posres/posres.tpr"
      ]
    },
    {
      "cell_type": "markdown",
      "metadata": {
        "id": "GXfAdBNu3i5t"
      },
      "source": [
        "<div class=\"alert alert-block alert-warning\"><b>Important observation</b><br> In this case Gromacs failed, what we can do? <br>Rise the hand and ask to the professor/assistant for help? <br> Or read the output, solve the problem and enter in the engineer's adulthood?<br>So read the output and try to undersand the problem</div>\n",
        "<br>\n",
        "\n",
        "**NB** Some GROMACS version cannot experience this warning, however this hint is also valid\n",
        "\n",
        "**P.S.** Seeking advice from classroom teachers is essential and strongly recommended and encouraged. Paradoxically, however, asking for advice after trying to solve the problem and reading the terminal is even better!"
      ]
    },
    {
      "cell_type": "code",
      "execution_count": null,
      "metadata": {
        "id": "DJJI8dfl3i5t"
      },
      "outputs": [],
      "source": [
        "%%bash\n",
        "gmx grompp -f data/mdp/posre.mdp -c 00-em/em.gro -r 00-em/em.gro -p system/penetratin.top -o 01-posres/posres.tpr -maxwarn 2"
      ]
    },
    {
      "cell_type": "code",
      "execution_count": null,
      "metadata": {
        "id": "QH65frgF3i5u"
      },
      "outputs": [],
      "source": [
        "!gmx mdrun -s 01-posres/posres.tpr -deffnm 01-posres/posres -v -nt 12"
      ]
    },
    {
      "cell_type": "markdown",
      "metadata": {
        "id": "2lqvyJgh3i5u"
      },
      "source": [
        "<div class=\"alert alert-block alert-info\"><center><b> Is the system well equilibrated in terms of temperature? And in terms of pressure?</b></center><div>"
      ]
    },
    {
      "cell_type": "code",
      "execution_count": null,
      "metadata": {
        "id": "sI99gYg43i5u"
      },
      "outputs": [],
      "source": [
        "! echo -e \"Temperature \\n Pressure \\n 0\" | gmx energy -f 01-posres/posres.edr -o 01-posres/Temp_Press.xvg"
      ]
    },
    {
      "cell_type": "code",
      "execution_count": null,
      "metadata": {
        "id": "nfeeueHu3i5u"
      },
      "outputs": [],
      "source": [
        "data=np.loadtxt(\"01-posres/Temp_Press.xvg\",comments=[\"#\",\"@\"])\n",
        "time=data[:,0] #assign the first column of data to the variable step\n",
        "temp=data[:,1] #assign the second column of data to the variable potential\n",
        "pressure=data[:,2] #assign the second column of data to the variable pressure\n",
        "plt.plot(time,temp)\n",
        "plt.xlabel(\"Time [ps]\",size=14)\n",
        "plt.ylabel(\"Temperature [K]\",size=14)\n",
        "plt.title(\"Temperature as a function of Time\")\n",
        "plt.tight_layout()"
      ]
    },
    {
      "cell_type": "code",
      "execution_count": null,
      "metadata": {
        "id": "X-a8RxwO3i5u"
      },
      "outputs": [],
      "source": [
        "plt.plot(time,pressure)\n",
        "plt.xlabel(\"Time [ps]\",size=14)\n",
        "plt.ylabel(\"Pressure [bar]\",size=14)\n",
        "plt.title(\"Pressure as a function of Time\")\n",
        "plt.tight_layout()"
      ]
    },
    {
      "cell_type": "code",
      "execution_count": null,
      "metadata": {
        "id": "88qkfBkd3i5u"
      },
      "outputs": [],
      "source": [
        "! echo -e \"Density \\n 0\" | gmx energy -f 01-posres/posres.edr -o 01-posres/density.xvg"
      ]
    },
    {
      "cell_type": "code",
      "execution_count": null,
      "metadata": {
        "id": "9ApIGdzA3i5v"
      },
      "outputs": [],
      "source": [
        "data=np.loadtxt(\"01-posres/density.xvg\",comments=[\"#\",\"@\"])\n",
        "time=data[:,0] #assign the first column of data to the variable time\n",
        "density=data[:,1] #assign the second column of data to the variable Density\n",
        "plt.plot(time,density)\n",
        "plt.xlabel(\"Time [ps]\",size=14)\n",
        "plt.ylabel(\"Density [$kg/m^3$]\",size=14)\n",
        "plt.axhline(1000,time[0],time[-1],ls=\"--\")\n",
        "plt.title(\"Density as a function of Time\")\n",
        "plt.tight_layout()"
      ]
    },
    {
      "cell_type": "markdown",
      "metadata": {
        "id": "6QKxWLeu3i5v"
      },
      "source": [
        "<div class=\"alert alert-block alert-info\"><center><b> How to plot two diagrams in a single subplot? </b></center><div>"
      ]
    },
    {
      "cell_type": "code",
      "execution_count": null,
      "metadata": {
        "id": "ooe1jce_3i5v"
      },
      "outputs": [],
      "source": [
        "import matplotlib.pyplot as plt # Import from the library matplotlib  the package pyplot and alias it as plt\n",
        "import numpy as np #import the library numpy and alias it as np\n",
        "'''load the data from the potential.xvg format into data, ...\n",
        "define the comments as raw starting with either # or @'''\n",
        "data=np.loadtxt(\"01-posres/Temp_Press.xvg\",comments=[\"#\",\"@\"])\n",
        "time=data[:,0] #assign the first column of data to the variable step\n",
        "temp=data[:,1] #assign the second column of data to the variable potential\n",
        "press=data[:,2] #assign the second column of data to the variable potential\n",
        "\n",
        "plot,axes=plt.subplots(2,1,sharex=True,figsize=(16/2.54,8/2.54)) #plot the function potential(data)\n",
        "# note: size expressed in inches ~= cm / 2.54\n",
        "axes[0].plot(time,temp)\n",
        "axes[1].plot(time,press)\n",
        "axes[1].set_xlabel(\"Time [ps]\",fontsize=10) #assign the x label\n",
        "axes[0].set_ylabel(\"Temperature [K]\",fontsize=10) #assign the y label\n",
        "axes[1].set_ylabel(\"Pressure [bar]\",fontsize=10) #assign the y label\n",
        "#save the figure in png format with a resolution of 300 dot per inch \"dpi\"\n",
        "plot.tight_layout()\n",
        "plot.savefig(\"01-posres/subplot_temp_press.png\",format=\"png\", dpi=300)"
      ]
    },
    {
      "cell_type": "markdown",
      "metadata": {
        "id": "mwSLsxpt3i5v"
      },
      "source": [
        "## Production without position restraints"
      ]
    },
    {
      "cell_type": "markdown",
      "metadata": {
        "id": "FGkR4uxV3i5v"
      },
      "source": [
        "Upon completion of the equilibration phase, the system is now well-equilibrated at the desired temperature and pressure. We are now ready to release the position restraints and run production MD for data collection.\n",
        "\n",
        "***If you have not run the equilibration phase, copy the files from the previous part of the notebook with the following cell:***"
      ]
    },
    {
      "cell_type": "code",
      "execution_count": null,
      "metadata": {
        "id": "x2vbYzzC3i5v"
      },
      "outputs": [],
      "source": [
        "%%bash\n",
        "mkdir -p 01-posres/\n",
        "cp -r data/part_3/01-posres/* 01-posres/"
      ]
    },
    {
      "cell_type": "markdown",
      "metadata": {
        "id": "oWz-E9Fw3i5v"
      },
      "source": [
        "Return at the root of your working directory, create a folder for the molecular dynamics production:"
      ]
    },
    {
      "cell_type": "code",
      "execution_count": null,
      "metadata": {
        "id": "52Oho2l83i5w"
      },
      "outputs": [],
      "source": [
        "!mkdir 02-prod"
      ]
    },
    {
      "cell_type": "code",
      "execution_count": null,
      "metadata": {
        "id": "lNxqX3gX3i5w"
      },
      "outputs": [],
      "source": [
        "!cat data/mdp/md.mdp"
      ]
    },
    {
      "cell_type": "markdown",
      "metadata": {
        "id": "dMzEuYnx3i5w"
      },
      "source": [
        "Create the tpr and run the simulation: we will use the file “md.mdp” for molecular dynamics parameters which\n",
        "do not include the position restraints of the previous step. Note that we will use the structure file coming from\n",
        "the previous equilibration with position restraints, i.e. posre.gro"
      ]
    },
    {
      "cell_type": "code",
      "execution_count": null,
      "metadata": {
        "id": "mHwp_2LW3i5x"
      },
      "outputs": [],
      "source": [
        "!gmx grompp -f data/mdp/md.mdp -c  01-posres/posres.gro -p system/penetratin.top -o 02-prod/prod.tpr"
      ]
    },
    {
      "cell_type": "code",
      "execution_count": null,
      "metadata": {
        "id": "I2wLqTxi3i5x"
      },
      "outputs": [],
      "source": [
        "!gmx mdrun -deffnm 02-prod/prod -s 02-prod/prod.tpr -v"
      ]
    },
    {
      "cell_type": "markdown",
      "metadata": {
        "id": "rYi9oT3v3i5z"
      },
      "source": [
        "## Visualize the trajectory"
      ]
    },
    {
      "cell_type": "code",
      "execution_count": null,
      "metadata": {
        "id": "Ld4SSKHl3i50"
      },
      "outputs": [],
      "source": [
        "import nglview as nv\n",
        "traj = nv.SimpletrajTrajectory(\"02-prod/prod.xtc\", \"02-prod/prod.gro\")\n",
        "view_pbc = nv.show_simpletraj(traj)\n",
        "view_pbc.add_representation(\"ball+stick\",selection=\"water\")\n",
        "view_pbc.center(\"System\")\n",
        "view_pbc"
      ]
    },
    {
      "cell_type": "markdown",
      "metadata": {
        "id": "Bdb0q9sO3i57"
      },
      "source": [
        "The trajectory file that is obtained as a result of the simulation, if directly loaded onto a visualization program has artifacts due to the presence of the periodic conditions.\n",
        "\n",
        "In fact since the bonds are created heuristically at the beginning by the program, if some atoms of the molecule exit from one side and re-enter from the opposite side the visualization program always considers them joined.\n",
        "\n",
        "Mind you, this is not an error in the trajectory, it is due to the presence of the periodic conditions. To \"reconstruct\" molecules \"broken\" due to the periodic conditions one uses the gromacs program `gmx trjconv`, which is generally used to manipulate trajectory files in the various gromacs formats (`.trr`, `.xtc`, `.pdb`).\n"
      ]
    },
    {
      "cell_type": "code",
      "execution_count": null,
      "metadata": {
        "id": "AUfX92S-3i58"
      },
      "outputs": [],
      "source": [
        "!gmx trjconv -h"
      ]
    },
    {
      "cell_type": "code",
      "execution_count": null,
      "metadata": {
        "id": "5pcUanm93i59"
      },
      "outputs": [],
      "source": [
        "!echo -e \"0 \\n\" | gmx trjconv -s 02-prod/prod.tpr -f 02-prod/prod.xtc -o 02-prod/noPBC.xtc -pbc mol -ur compact"
      ]
    },
    {
      "cell_type": "code",
      "execution_count": null,
      "metadata": {
        "id": "rwex3vLn3i59"
      },
      "outputs": [],
      "source": [
        "import nglview as nv\n",
        "traj_nopbc = nv.SimpletrajTrajectory(\"02-prod/noPBC.xtc\", \"02-prod/prod.gro\")\n",
        "view_nopbc = nv.show_simpletraj(traj_nopbc)\n",
        "view_nopbc.add_representation(\"ball+stick\",selection=\"water\")\n",
        "view_nopbc.center(\"sytem\")\n",
        "view_nopbc"
      ]
    },
    {
      "cell_type": "markdown",
      "metadata": {
        "id": "fVPtE6VP3i5-"
      },
      "source": [
        "As we saw in class, in reality, to study protein folding and phenomena at the molecular scale, it is necessary to simulate for orders of tens of nanoseconds or even microsends.\n",
        "\n",
        "Usually at the end of a simulation, certain quantities such as the RMSD (which we will see in the next part) are observed to assess the convergence of the simulations.\n",
        "\n",
        "In the case that a simulation has not converged, it is possible to extend an existing simulation without having to start it all over again."
      ]
    },
    {
      "cell_type": "markdown",
      "metadata": {
        "id": "AD_7QQn63i5-"
      },
      "source": [
        "To extend an existing simulation it is possible to follow diverse approach.\n",
        "\n",
        "One is to build a new `.tpr` with the `.gro` file coming as an output of the previous simulation and run another production.\n",
        "\n",
        "Another approach is to overwrite the directive nsteps in the existing `.tpr` file and \"extend\" the existing trajectory.\n",
        "\n",
        "To overwrite the number of steps one can employ the command\n",
        "\n",
        "**`gmx convert-tpr -s \"old.tpr\" -nsteps \"number of steps\"`**\n",
        "\n",
        "or\n",
        "\n",
        "employ the option `-nsteps` in the command **`gmx mdrun`** to perform additional steps.\n",
        "\n",
        "In both case the command **`gmx mdrun`** must be lunched with the `-cpi` option. `-cpi` option takes as input a check point file (`.cpt`).\n",
        "\n",
        "**NB** The check point file (`.cpt`) can also be employed to conclude a simulation that for some reason, such computer shutdown, has not concluded the total number of steps.\n",
        "\n",
        "Let's extend the previous simulation in order to have a trajectory of 10 ns.\n",
        "\n",
        "If the `dt=0.002` how many steps we must perform in order to have 10 ns of simulation?"
      ]
    },
    {
      "cell_type": "code",
      "execution_count": null,
      "metadata": {
        "scrolled": false,
        "id": "_EKbwuLb3i5-"
      },
      "outputs": [],
      "source": [
        "!gmx convert-tpr -s 02-prod/prod.tpr -nsteps 5000000 -o 02-prod/prod_ext.tpr"
      ]
    },
    {
      "cell_type": "code",
      "execution_count": null,
      "metadata": {
        "id": "FyHKMhsE3i5-"
      },
      "outputs": [],
      "source": [
        "!gmx mdrun -deffnm 02-prod/prod -cpi 02-prod/prod.cpt -s 02-prod/prod_ext.tpr -v"
      ]
    },
    {
      "cell_type": "markdown",
      "metadata": {
        "id": "yVEUvJIX3i5-"
      },
      "source": [
        "# PART 4 - Analysis"
      ]
    },
    {
      "cell_type": "markdown",
      "metadata": {
        "id": "ne2hhi7G3i5_"
      },
      "source": [
        "In this section, we will see some basic analysis that can be done on the result of a MD simulation.\n",
        "We will do the analysis on the data contained in the folder `data/part_4`. We will need a tpr, so let's create it.\n",
        "\n",
        "Let's create a working directory and copy those data:"
      ]
    },
    {
      "cell_type": "code",
      "execution_count": null,
      "metadata": {
        "id": "jk96i-Lg3i5_"
      },
      "outputs": [],
      "source": [
        "%%bash\n",
        "mkdir -p 03-analysis\n",
        "cp data/part_4/* 03-analysis/\n",
        "cd 03-analysis\n",
        "gmx grompp -f dummy.mdp -c penetratin.pdb -p penetratin.top -o topol.tpr > /dev/null 2>&1"
      ]
    },
    {
      "cell_type": "markdown",
      "metadata": {
        "id": "Yk1vzv-r3i5_"
      },
      "source": [
        "<div class=\"alert alert-block alert-warning\"><b><center>WARNING</center></b><br>\n",
        "    As you have noticed, we have created a new file <b>\".tpr\"</b> in the previous cell. This is due to the fact that the <b>\".tpr\"</b>  file, unlike most of the other formats produced by gromacs ('xtc', 'gro', 'trr' etc...) is linked to the version of the software with which it was created. In other words, a <b>\".tpr\"</b>  created with the <b>\"gromacs 2020\"</b> version can only be read by <b>\"gromacs 2020\"</b> and not by the version of <b>\"gromacs 2021\"</b>.\n",
        "</div>"
      ]
    },
    {
      "cell_type": "markdown",
      "metadata": {
        "id": "SIRahBQp3i5_"
      },
      "source": [
        "First, import and install necessary packages necessary packages"
      ]
    },
    {
      "cell_type": "code",
      "execution_count": null,
      "metadata": {
        "id": "H_UhoK113i6A"
      },
      "outputs": [],
      "source": [
        "import numpy as np\n",
        "import matplotlib.pyplot as plt\n",
        "\n",
        "%matplotlib inline\n",
        "\n",
        "def convert_image(f=\"plot.eps\",o=\"plot.png\"):\n",
        "    '''\n",
        "    Function that allows you to convert a file from esp format to png format\n",
        "    '''\n",
        "    from PIL import Image\n",
        "    eps_image = Image.open(f)\n",
        "    eps_image.load(scale=10)\n",
        "    eps_image.save(o)"
      ]
    },
    {
      "cell_type": "markdown",
      "metadata": {
        "id": "6hJ5hb2v3i6A"
      },
      "source": [
        "## RMSD"
      ]
    },
    {
      "cell_type": "markdown",
      "metadata": {
        "id": "ex_QFPXi3i6A"
      },
      "source": [
        "The root-mean-square deviation (RMSD) is a measure of the average distance between the atoms (usually C$\\alpha$s or the backbone) of superimposed proteins. Typically RMSD is used as a quantitative measure of similarity between two or more protein structures. In the case of Molecular Dynamics simulations, one of the first analysis that is usually done is the observation of RMSD of protein atoms with respect to a target conformation over time:\n",
        "\n",
        "$$RMSD (t) = \\sqrt{\\frac{1}{N}\\sum^{N}_{i=1}{\\left(r_{i}(t)-r_{ref}\\right)^2}}$$\n",
        "\n",
        "where N is the number of atoms that you are considering (e.g., the total number of C$\\alpha$s).\n",
        "\n",
        "If RMSD is computed using the first frame as reference, we can quantify possible conformational changes from the initial structure used in the simulation. Moreover, we can have a first information about simulation convegernce if the RMSD stabilizes.\n",
        "\n",
        "Consider a 500 ns long simulation and the RMSD with respect to the initial conformation. The RMSD stabilized around 1 nm starting from 100 ns. Can you say that the conformations at 450 ns and 200 ns are for sure similar?"
      ]
    },
    {
      "cell_type": "markdown",
      "metadata": {
        "id": "hOHi7z6H3i6A"
      },
      "source": [
        "The answer is no!\n",
        "That information suggests you that the conformation are similar, but the actual information is that they are \"equally distant\" from the initial configuration of the system (reference frame). Therefore, it can happen that:\n",
        "\n",
        "$$ RMSD(200ns, 450ns) >> RMSD(0ns, 450ns) = RMSD(0ns, 200ns)$$\n",
        "\n",
        "We can test deeper the convergence of the simulation by using another frame as reference, such as the frame at 450ns. If the RMSD is stable and \"low\" starting from 100 ns (i.e., much lower than the one with respect to the initial frame), then we can be more confident about simulation convergence."
      ]
    },
    {
      "cell_type": "markdown",
      "metadata": {
        "id": "ie2S4Jkb3i6A"
      },
      "source": [
        "**Note**\n",
        "\n",
        "The RMSD can be computed to other, non-protein molecules, such as small organic molecules, i.e., ligands. For instance, if we fit the trajectory on the protein and measure the RMSD of the ligand, we obtain information about the ligand position within the protein binding cleft."
      ]
    },
    {
      "cell_type": "code",
      "execution_count": null,
      "metadata": {
        "id": "d8VzbrhQ3i6A"
      },
      "outputs": [],
      "source": [
        "!gmx rms -h"
      ]
    },
    {
      "cell_type": "code",
      "execution_count": null,
      "metadata": {
        "id": "aEIAeNLH3i6A"
      },
      "outputs": [],
      "source": [
        "%%bash\n",
        "cd 03-analysis/\n",
        "echo -e \"Backbone\\nBackbone\" | gmx rms -s penetratin.pdb -f penetratin.xtc -o rmsd.xvg -tu ns\n",
        "echo -e \"System\" | gmx trjconv -s topol.tpr -f penetratin.xtc -dump 9 -o struct9ns.pdb -tu ns\n",
        "echo -e \"Backbone\\nBackbone\" | gmx rms -s struct9ns.pdb -f penetratin.xtc -o rmsd_9ns.xvg -tu ns"
      ]
    },
    {
      "cell_type": "code",
      "execution_count": null,
      "metadata": {
        "scrolled": true,
        "id": "4WpQR2AF3i6C"
      },
      "outputs": [],
      "source": [
        "# Load your data\n",
        "time, rmsd = np.loadtxt('03-analysis/rmsd.xvg',comments=['@','#'],unpack=True)\n",
        "_, rmsd9 = np.loadtxt('03-analysis/rmsd_9ns.xvg',comments=['@','#'],unpack=True)\n",
        "\n",
        "# Prepare the figure\n",
        "fig = plt.figure()\n",
        "ax = fig.add_subplot(111,)\n",
        "\n",
        "# Plot your data\n",
        "ax.plot(time,rmsd,label='Ref: 0 ns',c='k')\n",
        "ax.plot(time,rmsd9,label='Ref: 9 ns',c='r')\n",
        "\n",
        "# Adjust the plot and personalize\n",
        "ax.set_xlim(time[0],time[-1])\n",
        "m = np.max(np.concatenate((rmsd,rmsd9)))*1.05\n",
        "ax.set_ylim(0,m)\n",
        "ax.set_xlabel(r\"Time [ns]\")\n",
        "ax.set_ylabel(r\"RMSD [nm]\")\n",
        "ax.legend(frameon=False)\n",
        "\n",
        "# This allows you to adjust the figure limits to make your figure nice\n",
        "# (Recommended but not compulsory)\n",
        "fig.tight_layout()\n",
        "\n",
        "# Now, save the plot (if you want)\n",
        "fig.savefig('03-analysis/rmsd_comparison.jpg',dpi=300,facecolor='white')"
      ]
    },
    {
      "cell_type": "markdown",
      "metadata": {
        "id": "W3imSTP53i6C"
      },
      "source": [
        "## RMSF"
      ]
    },
    {
      "cell_type": "markdown",
      "metadata": {
        "id": "9kUz24Oe3i6C"
      },
      "source": [
        "The root-mean-square fluctuation (RMSF) from the average is a measure that allows you to quantify the fluctuation of an atom (or a group of atoms) during time.\n",
        "\n",
        "In the case of Molecular Dynamics simulations, the RMSF of protein residues is computed to identify the most stable and the most flexible parts of the protein structures. Usually, non-structured regions are the most flexible. The RMSF is usually computed as an average for each residue or is computed considering the C$\\alpha$s as representative of the whole residues.\n",
        "\n",
        "The RMSF for the i-th atom is defined as:\n",
        "\n",
        "$$RMSF(i) = \\sqrt{\\frac{1}{N}\\sum^{N}_{t=1}{\\left(r_{i}(t)-r_{mean}\\right)^2}}$$\n",
        "\n",
        "where N is the total number of frames in the trajectory."
      ]
    },
    {
      "cell_type": "code",
      "execution_count": null,
      "metadata": {
        "scrolled": true,
        "id": "_CGjvt1c3i6C"
      },
      "outputs": [],
      "source": [
        "!gmx rmsf -h"
      ]
    },
    {
      "cell_type": "code",
      "execution_count": null,
      "metadata": {
        "id": "-Wlm57zy3i6D"
      },
      "outputs": [],
      "source": [
        "%%bash\n",
        "cd 03-analysis/\n",
        "echo \"C-alpha\" | gmx rmsf -f penetratin.xtc -s topol.tpr -o rmsf.xvg -res"
      ]
    },
    {
      "cell_type": "code",
      "execution_count": null,
      "metadata": {
        "id": "fu2ZvTr43i6D"
      },
      "outputs": [],
      "source": [
        "!cat 03-analysis/rmsf.xvg"
      ]
    },
    {
      "cell_type": "code",
      "execution_count": null,
      "metadata": {
        "scrolled": true,
        "id": "aQOCei3U3i6D"
      },
      "outputs": [],
      "source": [
        "# Load your data\n",
        "res, rmsf = np.loadtxt('03-analysis/rmsf.xvg',comments=['@','#'],unpack=True)\n",
        "\n",
        "# Prepare the figure\n",
        "fig = plt.figure()\n",
        "ax = fig.add_subplot(111,)\n",
        "\n",
        "# Plot your data\n",
        "ax.plot(res,rmsf,c='k')\n",
        "\n",
        "# Adjust the plot and personalize\n",
        "ax.set_xlim(res[0],res[-1])\n",
        "m = np.max(rmsf)*1.05\n",
        "ax.set_ylim(0,m)\n",
        "ax.set_xlabel(r\"Residue number\")\n",
        "ax.set_ylabel(r\"RMSF [nm]\")\n",
        "\n",
        "# This allows you to adjust the figure limits to make your figure nice\n",
        "# (Recommended but not compulsory)\n",
        "fig.tight_layout()\n",
        "\n",
        "# Now, save the plot (if you want)\n",
        "fig.savefig('03-analysis/rmsf.png',dpi=300,facecolor='white')"
      ]
    },
    {
      "cell_type": "markdown",
      "metadata": {
        "id": "7GzVfMAf3i6G"
      },
      "source": [
        "**Note**\n",
        "You can use the rmsf command of GROMACS to generate an average configuration of the protein in a certain portion of the trajectory. This configuration can be used as reference in the RMSD analysis.\n",
        "\n",
        "Suppose that you take the average configuration in the trajectory from 400ns to 450ns: if the RMSD is \"low\" and stable also berfore (and after) that interval, it means that during the equilibrium trajectory the conformations are equally distant from the average of time \\[400ns; 450ns\\]"
      ]
    },
    {
      "cell_type": "code",
      "execution_count": null,
      "metadata": {
        "id": "GStlpRuZ3i6I"
      },
      "outputs": [],
      "source": [
        "%%bash\n",
        "cd 03-analysis/\n",
        "echo \"Protein\" | gmx rmsf -f penetratin.xtc -s topol.tpr -o rmsf_eq.xvg -ox average.pdb -b 8000 -e 9000\n",
        "echo -e \"Backbone\\nBackbone\" | gmx rms -s average.pdb -f penetratin.xtc -o rmsd_av.xvg -tu ns"
      ]
    },
    {
      "cell_type": "code",
      "execution_count": null,
      "metadata": {
        "id": "EDGGWZJb3i6J"
      },
      "outputs": [],
      "source": [
        "time, rmsd = np.loadtxt('03-analysis/rmsd_av.xvg',comments=['@','#'],unpack=True)\n",
        "_, rmsd50 = np.loadtxt('03-analysis/rmsd_9ns.xvg',comments=['@','#'],unpack=True)\n",
        "_, rmsd0 = np.loadtxt('03-analysis/rmsd.xvg',comments=['@','#'],unpack=True)\n",
        "fig = plt.figure()\n",
        "ax = fig.add_subplot(111,)\n",
        "ax.plot(time,rmsd0,c='k',label='Ref: 0 ns')\n",
        "ax.plot(time,rmsd50,c='r',label='Ref: 9 ns')\n",
        "ax.plot(time,rmsd,c='b',label='Ref: [8-9]ns')\n",
        "ax.set_xlim(time[0],time[-1])\n",
        "m = np.max(np.concatenate((rmsd,rmsd50,rmsd0)))*1.05\n",
        "ax.set_ylim(0,m)\n",
        "ax.set_xlabel(r\"Time [ns]\")\n",
        "ax.set_ylabel(r\"RMSD [nm]\")\n",
        "ax.legend()\n",
        "fig.tight_layout()\n",
        "fig.savefig('03-analysis/rmsd_average.png',dpi=300,facecolor='white')"
      ]
    },
    {
      "cell_type": "markdown",
      "metadata": {
        "id": "S8DntDHC3i6J"
      },
      "source": [
        "## Radius of Gyration"
      ]
    },
    {
      "cell_type": "markdown",
      "metadata": {
        "id": "iVRboCRR3i6J"
      },
      "source": [
        "Radius of gyration or gyradius of a body about the axis of rotation is defined as the radial distance to a point which would have a moment of inertia the same as the body's actual distribution of mass, if the total mass of the body were concentrated there.\n",
        "In polymer physics, the radius of gyration is used to describe the dimensions of a polymer chain. The radius of gyration of a particular molecule at a given time is defined as:\n",
        "\n",
        "$$ R_{\\mathrm {g} }\\ =\\ \\sqrt{{\\frac {1}{N}}\\sum _{i=1}^{N}\\left(\\mathbf {r} _{i}-\\mathbf {r} _{\\mathrm {COM} }\\right)^{2}}$$"
      ]
    },
    {
      "cell_type": "code",
      "execution_count": null,
      "metadata": {
        "id": "F9W1F-rC3i6K"
      },
      "outputs": [],
      "source": [
        "!gmx gyrate -h"
      ]
    },
    {
      "cell_type": "code",
      "execution_count": null,
      "metadata": {
        "scrolled": true,
        "id": "99OB-qZr3i6K"
      },
      "outputs": [],
      "source": [
        "%%bash\n",
        "cd 03-analysis/\n",
        "echo \"Protein\" | gmx gyrate -f penetratin.xtc -s topol.tpr -o rog.xvg"
      ]
    },
    {
      "cell_type": "markdown",
      "metadata": {
        "id": "0Ps9lVKq3i6K"
      },
      "source": [
        "Let's make thing more difficult. Plot both the time distribution of the radius of gyration and an histogram distribution"
      ]
    },
    {
      "cell_type": "code",
      "execution_count": null,
      "metadata": {
        "id": "b8Ouq9WA3i6K"
      },
      "outputs": [],
      "source": [
        "time, rog,_,_,_ = np.loadtxt('03-analysis/rog.xvg',comments=['@','#'],unpack=True)\n",
        "time /= 1000 # gmx gyrate gives the time in ps\n",
        "fig = plt.figure(figsize=(6,3))\n",
        "# in time\n",
        "ax1 = fig.add_subplot(121,)\n",
        "ax1.plot(time,rog,c='k')\n",
        "ax1.set_xlim(time[0],time[-1])\n",
        "M = np.max(rog)*1.05\n",
        "m = np.min(rog)*0.95\n",
        "ax1.set_ylim(m,M)\n",
        "ax1.set_xlabel(r\"Time [ns]\")\n",
        "ax1.set_ylabel(r\"$R_g$ [nm]\")\n",
        "\n",
        "# histogram\n",
        "ax2 = fig.add_subplot(122,)\n",
        "ax2.hist(rog,color='k',density=True,alpha=0.5)\n",
        "ax2.set_ylabel(r\"Probability density\")\n",
        "ax2.set_xlabel(r\"$R_g$ [nm]\")\n",
        "fig.tight_layout()\n",
        "fig.savefig('03-analysis/radius_of_gyration.png',dpi=300,facecolor='white')"
      ]
    },
    {
      "cell_type": "markdown",
      "metadata": {
        "id": "evXs53El3i6K"
      },
      "source": [
        "## Ramachandran plot"
      ]
    },
    {
      "cell_type": "markdown",
      "metadata": {
        "id": "of4yBWtm3i6K"
      },
      "source": [
        "The allowed combinations of torsional angles ψ and φ for a couple of residues are illustrated in the Ramachandran plot. It serves to represent allowed and disallowed regions of the two torsional angles of each peptide bond in a polypeptide chain.\n",
        "\n",
        "To compute the torsional angles in GROMACS we need:\n",
        "1. a tpr file containing the information about all the atoms in the system\n",
        "2. the coordinates of the system. It can be a single structure or an ensemble (a pdb with multiple frames or an xtc)"
      ]
    },
    {
      "cell_type": "code",
      "execution_count": null,
      "metadata": {
        "id": "dgXsEiPx3i6L"
      },
      "outputs": [],
      "source": [
        "!gmx rama -f 03-analysis/penetratin.xtc -s 03-analysis/topol.tpr -o 03-analysis/rama.xvg"
      ]
    },
    {
      "cell_type": "markdown",
      "metadata": {
        "id": "eMDSgff73i6L"
      },
      "source": [
        "Now, the formatting of the output file is:\n",
        "\n",
        "$\\phi$ $\\psi$ res1(time 1)\n",
        "\n",
        "$\\phi$ $\\psi$ res2(time 1)\n",
        "\n",
        "$\\phi$ $\\psi$ res3(time 1)\n",
        "\n",
        "$\\phi$ $\\psi$ res4(time 1)\n",
        "\n",
        "$\\phi$ $\\psi$ res1(time 2)\n",
        "\n",
        "$\\phi$ $\\psi$ res2(time 2)\n",
        "\n",
        "...\n",
        "\n",
        "$\\phi$ $\\psi$ res4(time N-1)\n",
        "\n",
        "$\\phi$ $\\psi$ res1(time N)\n",
        "\n",
        "$\\phi$ $\\psi$ res2(time N)\n",
        "\n",
        "$\\phi$ $\\psi$ res3(time N)\n",
        "\n",
        "$\\phi$ $\\psi$ res4(time N)\n",
        "\n",
        "**No need to worry:**\n",
        "Here we have an example of analysis, so you can extract pieces of cose to use in your analysis. Use them wisely!"
      ]
    },
    {
      "cell_type": "code",
      "execution_count": null,
      "metadata": {
        "id": "dvjOLW6u3i6M"
      },
      "outputs": [],
      "source": [
        "# Load data\n",
        "# You have to load separately floating point numbers and string\n",
        "phi, psi = np.loadtxt('03-analysis/rama.xvg',comments=['@','#'],usecols=(0,1),unpack=True)\n",
        "residues = np.loadtxt('03-analysis/rama.xvg',comments=['@','#'],usecols=(2),dtype=str)\n",
        "\n",
        "# This line searches all the points in the array where the first residue of the protein is present\n",
        "# Therefore, it contains the information to separate information of different frames\n",
        "delimiters = np.squeeze(np.argwhere(residues == residues[0]))"
      ]
    },
    {
      "cell_type": "code",
      "execution_count": null,
      "metadata": {
        "id": "cnIF7Tz83i6M"
      },
      "outputs": [],
      "source": [
        "from matplotlib.lines import Line2D # For the legend\n",
        "from MDAnalysis.analysis.data.filenames import Rama_ref\n",
        "import time"
      ]
    },
    {
      "cell_type": "markdown",
      "metadata": {
        "id": "lb2_SG9W3i6M"
      },
      "source": [
        "The data in `Rama_ref` contains information about dihedral $\\phi$ and $\\psi$ angles on a set of 500 PDB structures taken from [Lovell2003](https://doi.org/https://doi.org/10.1002/prot.10286). This is a numpy array that can be used to create *Allowed* and *Generously Allowed* (which means that contain 90% and 99% of the data points) in the Ramachandran plot."
      ]
    },
    {
      "cell_type": "code",
      "execution_count": null,
      "metadata": {
        "id": "wPAwieid3i6M"
      },
      "outputs": [],
      "source": [
        "from IPython import display\n",
        "frames = [0,800]\n",
        "fig = plt.figure(figsize=(5,5))\n",
        "ax = fig.add_subplot(111,)\n",
        "# Generate points in the plane to plot the Ramachandran regions\n",
        "# THESE X,Y POINTS ARE CREATED IN ORDER TO BE COHERENT WITH DATA IN Rama_ref\n",
        "# DO NOT MODIFY\n",
        "X, Y = np.meshgrid(np.arange(-180, 180, 4), np.arange(-180, 180, 4))\n",
        "Z = np.load(Rama_ref)\n",
        "# THE NUMBERS ON LEVELS ARE DEFINED TO PLOT THE ALLOWED AND GENEROUSLY ALLOWED REGIONS\n",
        "# DO NOT MODIFY\n",
        "c = ax.contourf(X, Y, Z, levels=[1, 17, 15000],colors = ['#A1D4FF', '#35A1FF'])\n",
        "\n",
        "# Set the limits of torsional angles\n",
        "ax.set_xlim(-180,180)\n",
        "ax.set_ylim(-180,180)\n",
        "ax.set_xlabel(r\"$\\phi$ [°]\")\n",
        "ax.set_ylabel(r\"$\\psi$ [°]\")\n",
        "\n",
        "#Personalize it with a legend\n",
        "custom_lines = [Line2D([0], [0], color='#A1D4FF', lw=8),\n",
        "                Line2D([0], [0], color='#35A1FF', lw=8)]\n",
        "ax.legend(custom_lines, ['99%', '90%'],loc='lower center',frameon=False)\n",
        "#if you want to personalize the colors create a list of colors\n",
        "colors=['tomato','k']\n",
        "\n",
        "#return a list of random exadecimal colors based on numpy library in one line\n",
        "colors=['#'+\"\".join([np.random.choice(list('0123456789ABCDEF')) for j in range(6)]) for i in range(len(frames))]\n",
        "\n",
        "plt.ion()\n",
        "for col,frame in zip(colors,frames):\n",
        "    ax.scatter(phi[delimiters[frame]:delimiters[frame+1]],psi[delimiters[frame]:delimiters[frame+1]],\n",
        "              marker='o',s=20,c=col)\n",
        "    display.display(plt.gcf())\n",
        "    display.clear_output(wait=True)\n",
        "    time.sleep(1)\n",
        "plt.show()\n"
      ]
    },
    {
      "cell_type": "markdown",
      "metadata": {
        "id": "PAeuRqSk3i6N"
      },
      "source": [
        "Do you remember what secondary structure is usually present in the region populated by in the above Ramachandran plot?\n",
        "\n",
        "Is this coherent with our peptide?"
      ]
    },
    {
      "cell_type": "markdown",
      "metadata": {
        "id": "uLyv-9Cs3i6N"
      },
      "source": [
        "## Distance between the extrema"
      ]
    },
    {
      "cell_type": "markdown",
      "metadata": {
        "id": "tBlUxmea3i6N"
      },
      "source": [
        "In some molecular systems, the distance between two residues (or group of residues) is an important descriptor of the protein conformation.\n",
        "\n",
        "Let's assume that there is loop of a protein that, with its movement, opens or closes a binding site. We might define the distance of this loop from the binding site and describe the site opening or closure in terms of such distance.\n",
        "\n",
        "This was only a very basic example, but it stresses the fact that, in some cases, important information of the molecular systems can be described with simple metrics. Usually, in real life problems, the heard part is finding these metrics from the observation of the system trajectory (do you remember the lessons about metadynamics and collective variables?)."
      ]
    },
    {
      "cell_type": "markdown",
      "metadata": {
        "id": "1CAo5vbQ3i6N"
      },
      "source": [
        "To make an example, let's compute the distance between the two extrema of our peptide. It can be done with GROMACS using the `gmx distance` command. To do so:\n",
        "1. create an index containing the two groups from which you want to compute the distance\n",
        "2. use the gromacs function with the option `-select 'com of group \"[name group 1]\" plus com of group \"[name group 2]\"`\n",
        "\n",
        "**Note** that `com` stands for _center of mass_, which means you are computing the distances between the centres of mass of the two groups."
      ]
    },
    {
      "cell_type": "code",
      "execution_count": null,
      "metadata": {
        "id": "a-58BpZb3i6N"
      },
      "outputs": [],
      "source": [
        "gmx distance -h"
      ]
    },
    {
      "cell_type": "code",
      "execution_count": null,
      "metadata": {
        "id": "YabKucBe3i6N"
      },
      "outputs": [],
      "source": [
        "%%bash\n",
        "cd 03-analysis\n",
        "echo \"\n",
        "keep 0\n",
        "r 43\n",
        "name 1 E1\n",
        "r 56\n",
        "name 2 E2\n",
        "q\" | gmx make_ndx -f penetratin.pdb -o index.ndx\n",
        "gmx distance -f penetratin.xtc -s topol.tpr -select 'com of group \"E1\" plus com of group \"E2\"' \\\n",
        "-n index.ndx -oav distance.xvg"
      ]
    },
    {
      "cell_type": "code",
      "execution_count": null,
      "metadata": {
        "id": "_UM4MjlV3i6O"
      },
      "outputs": [],
      "source": [
        "time, d = np.loadtxt('03-analysis/distance.xvg',comments=['@','#'],unpack=True)\n",
        "time = time/1000 # gmx distance gives output only in ps\n",
        "fig = plt.figure(figsize=(6,3))\n",
        "# in time\n",
        "ax1 = fig.add_subplot(121,)\n",
        "ax1.plot(time,d,c='k')\n",
        "ax1.set_xlim(time[0],time[-1])\n",
        "M = np.max(d)*1.05\n",
        "m = np.min(d)*0.95\n",
        "ax1.set_ylim(m,M)\n",
        "ax1.set_xlabel(r\"Time [ns]\")\n",
        "ax1.set_ylabel(r\"$d_{ee}$ [nm]\")\n",
        "\n",
        "# histogram\n",
        "ax2 = fig.add_subplot(122,)\n",
        "ax2.hist(d,color='k',density=True,alpha=0.5)\n",
        "ax2.set_ylabel(r\"Probability density\")\n",
        "ax2.set_xlabel(r\"$d_{ee}$ [nm]\")\n",
        "fig.tight_layout()\n",
        "fig.savefig('03-analysis/distance.png',dpi=300,facecolor='white')"
      ]
    },
    {
      "cell_type": "markdown",
      "metadata": {
        "id": "2xPUwu2m3i6O"
      },
      "source": [
        "## Hydrogen Bonds"
      ]
    },
    {
      "cell_type": "markdown",
      "metadata": {
        "id": "Yg6mZuvq3i6V"
      },
      "source": [
        "Hydrogen bond is a type of dipole-dipole attraction between molecules. It results from the attractive force between a hydrogen atom convalently bonded to a very elecctronegative atom such as N, O or F atom and another very elecctronegative atom.\n",
        "\n",
        "The Hydrogen Bond analysis aims at identify the number and/or the duration of hydrogen bonds in a system of interest.\n",
        "\n",
        "Hydrogen bonds are determined by `GROMACS` function **`gmx hbond`** based on two geometric features:\n",
        "* the angle Hydrogen - Donor - Acceptor\n",
        "* the distance Donor - Acceptor (or Hydrogen - Acceptor)."
      ]
    },
    {
      "cell_type": "code",
      "execution_count": null,
      "metadata": {
        "id": "mQmdJUum3i6V"
      },
      "outputs": [],
      "source": [
        "!gmx hbond -h"
      ]
    },
    {
      "cell_type": "markdown",
      "metadata": {
        "id": "eCyyMOdE3i6W"
      },
      "source": [
        "Usully one can be interested in exploring the number of hydrogen bonds between the Protein and the solvent (Water) and the Protein with it-self"
      ]
    },
    {
      "cell_type": "code",
      "execution_count": null,
      "metadata": {
        "id": "bGwiQJ_A3i6W"
      },
      "outputs": [],
      "source": [
        "%%bash\n",
        "cd 03-analysis\n",
        "echo -e \"Protein \\n Water \\n \" | gmx hbond -f penetratin.xtc -s topol.tpr -num hb_water_protein.xvg\n",
        "echo -e \"Protein \\n Protein \\n \" | gmx hbond -f penetratin.xtc -s topol.tpr -num hb_protein_protein.xvg"
      ]
    },
    {
      "cell_type": "code",
      "execution_count": null,
      "metadata": {
        "id": "srBr14hr3i6W"
      },
      "outputs": [],
      "source": [
        "time, hb_protein_water = np.loadtxt('03-analysis/hb_water_protein.xvg',comments=['@','#'],unpack=True)\n",
        "_, hb_protein_protein = np.loadtxt('03-analysis/hb_protein_protein.xvg',comments=['@','#'],unpack=True)\n",
        "time /= 1000\n",
        "\n",
        "fig = plt.figure(figsize=(11,4))\n",
        "ax1 = fig.add_subplot(131,)\n",
        "ax2 = fig.add_subplot(132,sharex = ax1)\n",
        "ax3 = fig.add_subplot(133,)\n",
        "ax1.plot(time,hb_protein_water,c='b')\n",
        "ax2.plot(time,hb_protein_protein,c='r')\n",
        "ax3.hist(hb_protein_water,color='b',density=True)\n",
        "ax3.hist(hb_protein_protein,color='r',density=True)\n",
        "ax1.set_xlim(time[0],time[-1])\n",
        "ax1.set_xlabel(r\"Time [ns]\")\n",
        "ax2.set_xlabel(r\"Time [ns]\")\n",
        "ax3.set_xlabel(r\"# HB\")\n",
        "ax1.set_ylabel(r\"# HB\")\n",
        "ax2.set_ylabel(r\"# HB\")\n",
        "ax3.set_ylabel(\"Probability density\")\n",
        "ax1.set_title('Water-Protein')\n",
        "ax2.set_title('Protein-Protein')\n",
        "m = np.min(np.concatenate((hb_protein_water,hb_protein_protein)))*0.95\n",
        "M = np.max(np.concatenate((hb_protein_water,hb_protein_protein)))*1.05\n",
        "ax3.set_xlim(m,M)\n",
        "fig.tight_layout()\n",
        "fig.savefig('03-analysis/hydrogen_bond.png',dpi=300,facecolor='white')"
      ]
    },
    {
      "cell_type": "markdown",
      "metadata": {
        "id": "utuOlHki3i6W"
      },
      "source": [
        "## Secondary structures Assesment"
      ]
    },
    {
      "cell_type": "markdown",
      "metadata": {
        "id": "iab1X_av3i6X"
      },
      "source": [
        "Protein secondary structure is the three dimensional form of local segments of proteins and refers to the pattern of hydrogen bonds between the carboxyloxygen atoms and amino hydrogen in the peptide backbone.\n",
        "\n",
        "<img src=\"https://github.com/lorenzopallante/BiomeccanicaMultiscala/blob/main/LAB/06-Gromacs/imgs/SS.png?raw=1\" width=\"400\" align=\"center\">\n",
        "\n",
        "\n",
        "Different methodologies and program has been developed to assess the secondary structure from the 3D protein coordinates.\n",
        "\n",
        "**`Gromacs`** employ the software **`DSSP`** integrated in the function **`gmx do_dssp`**."
      ]
    },
    {
      "cell_type": "markdown",
      "metadata": {
        "id": "9qLZZDno3i6X"
      },
      "source": [
        "The **`DSSP`** program works by calculating the most likely secondary structure assignment given the 3D structure of a protein.\n",
        "\n",
        "It does this by reading the position of the atoms in a protein followed by calculation of the H-bond energy between all atoms.\n",
        "\n",
        "The algorithm will discard any hydrogens present in the input structure and calculates the optimal hydrogen positions by placing them at 1.000 Å from the backbone N in the opposite direction from the backbone C=O bond.\n",
        "\n",
        "The best two H-bonds for each atom are then used to determine the most likely class of secondary structure for each residue in the protein.\n",
        "\n",
        "**`gmx do_dssp`** requires two necessary input:\n",
        "1. **-f** the coordinates of the system. It can be a single structure or an ensemble (.xtc, .trr, .pdb)\n",
        "1. **-s** the `.tpr` file containing the information about all the atoms in the system"
      ]
    },
    {
      "cell_type": "code",
      "execution_count": null,
      "metadata": {
        "id": "b-xWJCmE3i6X"
      },
      "outputs": [],
      "source": [
        "!gmx dssp -h"
      ]
    },
    {
      "cell_type": "code",
      "execution_count": null,
      "metadata": {
        "id": "bkiy-ng-3i6X"
      },
      "outputs": [],
      "source": [
        "%%bash\n",
        "cd 03-analysis/\n",
        "echo \"Protein\" | gmx dssp -s penetratin.pdb -f penetratin.xtc -tu ns -dt 0.1"
      ]
    },
    {
      "cell_type": "markdown",
      "metadata": {
        "id": "YK-ASdHA3i6X"
      },
      "source": [
        "Now, let's plot the secondary structure of the peptide along the simulation!\n",
        "\n",
        "The ```gmx dssp``` command will produce a file called \"dssp.dat\" that contains the secondary structure of the protein along the simulation.\n",
        "\n",
        "***Every line of the file is a frame of the trajectory and contains the secondary structure of each residue of the protein.***\n",
        "\n",
        "gmx dssp allows using the DSSP algorithm (namely, by detecting specific patterns of hydrogen bonds between amino acid residues) to determine the secondary structure of a protein.\n",
        "\n",
        "One-symbol secondary structure designations that are used in the output file:\n",
        "\n",
        "    H — alpha-helix;\n",
        "    B — residue in isolated beta-bridge;\n",
        "    E — extended strand that participates in beta-ladder;\n",
        "    G — 3_10-helix;\n",
        "    I — pi-helix;\n",
        "    P — kappa-helix (poly-proline II helix);\n",
        "    S — bend;\n",
        "    T — hydrogen-bonded turn;\n",
        "    = — break;\n",
        "    ~ — loop (no special secondary structure designation)."
      ]
    },
    {
      "cell_type": "code",
      "execution_count": null,
      "metadata": {
        "id": "yVnSR5483i6X"
      },
      "outputs": [],
      "source": [
        "# now let's plot the secondary structure every frame using a different color for each secondary structure\n",
        "\n",
        "# Load the data\n",
        "data = np.loadtxt('03-analysis/dssp.dat',comments=['@','#'],dtype=str)\n",
        "\n",
        "# assign a number to each secondary structure\n",
        "ss = {'H':0,'B':1,'E':2,'G':3,'I':4,'T':5,'S':6,'P':7,'=':8,'~':9}\n",
        "ss_translation = {0:'Helix',1:'Beta-Sheet',2:'Strand',3:'3-10 helix',4:'Pi helix',5:'Hydrogen Bond Turn',6:'Bend',7:'Kappa-Helix',8:'Break',9:'Loop'}\n",
        "\n",
        "# i want to replace all the H letters with 0, all the B letters with 1, etc.\n",
        "data = [[ss[j] for j in i] for i in data]"
      ]
    },
    {
      "cell_type": "code",
      "execution_count": null,
      "metadata": {
        "id": "q5X10jb13i6Y"
      },
      "outputs": [],
      "source": [
        "# plot the data as a heatmap\n",
        "plt.figure(figsize=(10,5))\n",
        "\n",
        "# Define a set of discrete colors\n",
        "colors = [\n",
        "    \"#4E79A7\",  # Steel Blue\n",
        "    \"#F28E2B\",  # Mandarin Orange\n",
        "    \"#E15759\",  # Coral Red\n",
        "    \"#76B7B2\",  # Seafoam Green\n",
        "    \"#59A14F\",  # Fresh Green\n",
        "    \"#EDC948\",  # Golden Yellow\n",
        "    \"#AF7AA1\",  # Soft Lavender\n",
        "    \"#FF9DA7\",  # Pink Salmon\n",
        "    \"#9C755F\",  # Mocha Brown\n",
        "    \"#BAB0AC\"   # Warm Gray\n",
        "]\n",
        "\n",
        "# Create a colormap using the colors\n",
        "import matplotlib.colors as mcolors\n",
        "cmap = mcolors.ListedColormap(colors, name='discrete')\n",
        "\n",
        "plt.imshow(np.array(data).T, cmap=cmap, aspect='auto')\n",
        "plt.xlabel(\"Frame\")\n",
        "plt.ylabel(\"Residue\")\n",
        "plt.title(\"Secondary structure\")\n",
        "# create a legend outside the plot using the ss keys as labels\n",
        "plt.legend(handles=[plt.Line2D([0], [0], color=c, lw=4) for c in colors], labels=ss_translation.values(), loc='center left', bbox_to_anchor=(1, 0.5))\n",
        "\n",
        "plt.savefig('03-analysis/secondary_structure.png',dpi=300,facecolor='white')\n",
        "plt.tight_layout()\n"
      ]
    }
  ],
  "metadata": {
    "celltoolbar": "Slideshow",
    "colab": {
      "provenance": []
    },
    "kernelspec": {
      "display_name": "bmlab",
      "language": "python",
      "name": "python3"
    },
    "language_info": {
      "codemirror_mode": {
        "name": "ipython",
        "version": 3
      },
      "file_extension": ".py",
      "mimetype": "text/x-python",
      "name": "python",
      "nbconvert_exporter": "python",
      "pygments_lexer": "ipython3",
      "version": "3.12.7"
    },
    "rise": {
      "scroll": true
    },
    "toc": {
      "base_numbering": 1,
      "nav_menu": {
        "height": "446px",
        "width": "376px"
      },
      "number_sections": true,
      "sideBar": true,
      "skip_h1_title": false,
      "title_cell": "Table of Contents",
      "title_sidebar": "Contents",
      "toc_cell": false,
      "toc_position": {
        "height": "calc(100% - 180px)",
        "left": "10px",
        "top": "150px",
        "width": "382px"
      },
      "toc_section_display": true,
      "toc_window_display": true
    },
    "widgets": {
      "application/vnd.jupyter.widget-state+json": {
        "1831a35afed5499695d23f49368339c2": {
          "model_module": "nglview-js-widgets",
          "model_name": "ColormakerRegistryModel",
          "model_module_version": "3.1.4",
          "state": {
            "_dom_classes": [],
            "_model_module": "nglview-js-widgets",
            "_model_module_version": "3.1.4",
            "_model_name": "ColormakerRegistryModel",
            "_msg_ar": [],
            "_msg_q": [],
            "_ready": false,
            "_view_count": null,
            "_view_module": "nglview-js-widgets",
            "_view_module_version": "3.1.4",
            "_view_name": "ColormakerRegistryView",
            "layout": "IPY_MODEL_9f337743145b4423b2814465d9ff6133",
            "tabbable": null,
            "tooltip": null
          }
        },
        "770bcef2765e44acb95cc8ab3e4840de": {
          "model_module": "@jupyter-widgets/base",
          "model_name": "LayoutModel",
          "model_module_version": "2.0.0",
          "state": {
            "_model_module": "@jupyter-widgets/base",
            "_model_module_version": "2.0.0",
            "_model_name": "LayoutModel",
            "_view_count": null,
            "_view_module": "@jupyter-widgets/base",
            "_view_module_version": "2.0.0",
            "_view_name": "LayoutView",
            "align_content": null,
            "align_items": null,
            "align_self": null,
            "border_bottom": null,
            "border_left": null,
            "border_right": null,
            "border_top": null,
            "bottom": null,
            "display": null,
            "flex": null,
            "flex_flow": null,
            "grid_area": null,
            "grid_auto_columns": null,
            "grid_auto_flow": null,
            "grid_auto_rows": null,
            "grid_column": null,
            "grid_gap": null,
            "grid_row": null,
            "grid_template_areas": null,
            "grid_template_columns": null,
            "grid_template_rows": null,
            "height": null,
            "justify_content": null,
            "justify_items": null,
            "left": null,
            "margin": null,
            "max_height": null,
            "max_width": null,
            "min_height": null,
            "min_width": null,
            "object_fit": null,
            "object_position": null,
            "order": null,
            "overflow": null,
            "padding": null,
            "right": null,
            "top": null,
            "visibility": null,
            "width": null
          }
        },
        "f2a0e578feff495e892daa6598a99e51": {
          "model_module": "@jupyter-widgets/controls",
          "model_name": "DescriptionStyleModel",
          "model_module_version": "2.0.0",
          "state": {
            "_model_module": "@jupyter-widgets/controls",
            "_model_module_version": "2.0.0",
            "_model_name": "DescriptionStyleModel",
            "_view_count": null,
            "_view_module": "@jupyter-widgets/base",
            "_view_module_version": "2.0.0",
            "_view_name": "StyleView",
            "description_width": ""
          }
        },
        "1a13c81521b24236b5472e6f923749df": {
          "model_module": "@jupyter-widgets/base",
          "model_name": "LayoutModel",
          "model_module_version": "2.0.0",
          "state": {
            "_model_module": "@jupyter-widgets/base",
            "_model_module_version": "2.0.0",
            "_model_name": "LayoutModel",
            "_view_count": null,
            "_view_module": "@jupyter-widgets/base",
            "_view_module_version": "2.0.0",
            "_view_name": "LayoutView",
            "align_content": null,
            "align_items": null,
            "align_self": null,
            "border_bottom": null,
            "border_left": null,
            "border_right": null,
            "border_top": null,
            "bottom": null,
            "display": null,
            "flex": null,
            "flex_flow": null,
            "grid_area": null,
            "grid_auto_columns": null,
            "grid_auto_flow": null,
            "grid_auto_rows": null,
            "grid_column": null,
            "grid_gap": null,
            "grid_row": null,
            "grid_template_areas": null,
            "grid_template_columns": null,
            "grid_template_rows": null,
            "height": null,
            "justify_content": null,
            "justify_items": null,
            "left": null,
            "margin": null,
            "max_height": null,
            "max_width": null,
            "min_height": null,
            "min_width": null,
            "object_fit": null,
            "object_position": null,
            "order": null,
            "overflow": null,
            "padding": null,
            "right": null,
            "top": null,
            "visibility": null,
            "width": null
          }
        },
        "b5a7b5bdabb74bec8843c1cc252a11f9": {
          "model_module": "@jupyter-widgets/controls",
          "model_name": "SliderStyleModel",
          "model_module_version": "2.0.0",
          "state": {
            "_model_module": "@jupyter-widgets/controls",
            "_model_module_version": "2.0.0",
            "_model_name": "SliderStyleModel",
            "_view_count": null,
            "_view_module": "@jupyter-widgets/base",
            "_view_module_version": "2.0.0",
            "_view_name": "StyleView",
            "description_width": "",
            "handle_color": null
          }
        },
        "4578fb6cf1df4f79a68ed255508b7ace": {
          "model_module": "@jupyter-widgets/controls",
          "model_name": "PlayModel",
          "model_module_version": "2.0.0",
          "state": {
            "_dom_classes": [],
            "_model_module": "@jupyter-widgets/controls",
            "_model_module_version": "2.0.0",
            "_model_name": "PlayModel",
            "_view_count": null,
            "_view_module": "@jupyter-widgets/controls",
            "_view_module_version": "2.0.0",
            "_view_name": "PlayView",
            "description": "",
            "description_allow_html": false,
            "disabled": false,
            "interval": 100,
            "layout": "IPY_MODEL_770bcef2765e44acb95cc8ab3e4840de",
            "max": 0,
            "min": 0,
            "playing": false,
            "repeat": false,
            "show_repeat": true,
            "step": 1,
            "style": "IPY_MODEL_f2a0e578feff495e892daa6598a99e51",
            "tabbable": null,
            "tooltip": null,
            "value": 0
          }
        },
        "abed7bd74b8d4f3693e9158f74cfb300": {
          "model_module": "@jupyter-widgets/controls",
          "model_name": "IntSliderModel",
          "model_module_version": "2.0.0",
          "state": {
            "_dom_classes": [],
            "_model_module": "@jupyter-widgets/controls",
            "_model_module_version": "2.0.0",
            "_model_name": "IntSliderModel",
            "_view_count": null,
            "_view_module": "@jupyter-widgets/controls",
            "_view_module_version": "2.0.0",
            "_view_name": "IntSliderView",
            "behavior": "drag-tap",
            "continuous_update": true,
            "description": "",
            "description_allow_html": false,
            "disabled": false,
            "layout": "IPY_MODEL_1a13c81521b24236b5472e6f923749df",
            "max": 0,
            "min": 0,
            "orientation": "horizontal",
            "readout": true,
            "readout_format": "d",
            "step": 1,
            "style": "IPY_MODEL_b5a7b5bdabb74bec8843c1cc252a11f9",
            "tabbable": null,
            "tooltip": null,
            "value": 0
          }
        },
        "29fca74152f14650848636fc87f0f58f": {
          "model_module": "@jupyter-widgets/base",
          "model_name": "LayoutModel",
          "model_module_version": "2.0.0",
          "state": {
            "_model_module": "@jupyter-widgets/base",
            "_model_module_version": "2.0.0",
            "_model_name": "LayoutModel",
            "_view_count": null,
            "_view_module": "@jupyter-widgets/base",
            "_view_module_version": "2.0.0",
            "_view_name": "LayoutView",
            "align_content": null,
            "align_items": null,
            "align_self": null,
            "border_bottom": null,
            "border_left": null,
            "border_right": null,
            "border_top": null,
            "bottom": null,
            "display": null,
            "flex": null,
            "flex_flow": null,
            "grid_area": null,
            "grid_auto_columns": null,
            "grid_auto_flow": null,
            "grid_auto_rows": null,
            "grid_column": null,
            "grid_gap": null,
            "grid_row": null,
            "grid_template_areas": null,
            "grid_template_columns": null,
            "grid_template_rows": null,
            "height": null,
            "justify_content": null,
            "justify_items": null,
            "left": null,
            "margin": null,
            "max_height": null,
            "max_width": null,
            "min_height": null,
            "min_width": null,
            "object_fit": null,
            "object_position": null,
            "order": null,
            "overflow": null,
            "padding": null,
            "right": null,
            "top": null,
            "visibility": null,
            "width": null
          }
        },
        "827646beac244bcfb2b637b41c5f0fc3": {
          "model_module": "nglview-js-widgets",
          "model_name": "NGLModel",
          "model_module_version": "3.1.4",
          "state": {
            "_camera_orientation": [],
            "_camera_str": "orthographic",
            "_dom_classes": [],
            "_gui_theme": null,
            "_ibtn_fullscreen": "IPY_MODEL_259073d54dad45c5bd8193b87065ab61",
            "_igui": null,
            "_iplayer": "IPY_MODEL_421eaf7a81904b8c8f207fbd4a10153a",
            "_model_module": "nglview-js-widgets",
            "_model_module_version": "3.1.4",
            "_model_name": "NGLModel",
            "_ngl_color_dict": {},
            "_ngl_coordinate_resource": {},
            "_ngl_full_stage_parameters": {},
            "_ngl_msg_archive": [
              {
                "target": "Stage",
                "type": "call_method",
                "methodName": "loadFile",
                "reconstruc_color_scheme": false,
                "args": [
                  {
                    "type": "blob",
                    "data": "TITLE     Penetratin-Silica Umbrella simulation in water\nREMARK    THIS IS A SIMULATION BOX\nCRYST1   65.000   65.000   70.000  90.00  90.00  90.00 P 1           1\nMODEL        1\nATOM      1  N   ARG B  43      27.450  39.330  58.820  1.00  0.00           N\nATOM      2  H1  ARG B  43      28.202  39.988  58.773  1.00  0.00            \nATOM      3  H2  ARG B  43      26.584  39.820  58.920  1.00  0.00            \nATOM      4  H3  ARG B  43      27.584  38.726  59.606  1.00  0.00            \nATOM      5  CA  ARG B  43      27.420  38.520  57.570  1.00  0.00           C\nATOM      6  HA  ARG B  43      28.336  38.125  57.501  1.00  0.00            \nATOM      7  CB  ARG B  43      26.210  37.540  57.770  1.00  0.00           C\nATOM      8  HB1 ARG B  43      25.409  38.082  58.024  1.00  0.00            \nATOM      9  HB2 ARG B  43      26.437  36.913  58.515  1.00  0.00            \nATOM     10  CG  ARG B  43      25.810  36.680  56.560  1.00  0.00           C\nATOM     11  HG1 ARG B  43      26.609  36.144  56.287  1.00  0.00            \nATOM     12  HG2 ARG B  43      25.553  37.297  55.816  1.00  0.00            \nATOM     13  CD  ARG B  43      24.610  35.700  56.850  1.00  0.00           C\nATOM     14  HD1 ARG B  43      24.839  35.140  57.646  1.00  0.00            \nATOM     15  HD2 ARG B  43      24.480  35.109  56.054  1.00  0.00            \nATOM     16  NE  ARG B  43      23.270  36.340  57.140  1.00  0.00           N\nATOM     17  HE  ARG B  43      23.048  36.531  58.096  1.00  0.00            \nATOM     18  CZ  ARG B  43      22.360  36.670  56.220  1.00  0.00           C\nATOM     19  NH1 ARG B  43      22.540  36.840  54.930  1.00  0.00           N\nATOM     20 1HH1 ARG B  43      23.450  36.721  54.532  1.00  0.00            \nATOM     21 2HH1 ARG B  43      21.767  37.089  54.346  1.00  0.00            \nATOM     22  NH2 ARG B  43      21.140  36.930  56.700  1.00  0.00           N\nATOM     23 1HH2 ARG B  43      20.966  36.870  57.683  1.00  0.00            \nATOM     24 2HH2 ARG B  43      20.401  37.185  56.076  1.00  0.00            \nATOM     25  C   ARG B  43      27.280  39.260  56.220  1.00  0.00           C\nATOM     26  O   ARG B  43      27.950  38.850  55.260  1.00  0.00           O\nATOM     27  N   GLN B  44      26.610  40.410  56.110  1.00  0.00           N\nATOM     28  H   GLN B  44      26.173  40.764  56.937  1.00  0.00            \nATOM     29  CA  GLN B  44      26.460  41.190  54.900  1.00  0.00           C\nATOM     30  HA  GLN B  44      26.127  40.600  54.164  1.00  0.00            \nATOM     31  CB  GLN B  44      25.480  42.340  55.290  1.00  0.00           C\nATOM     32  HB1 GLN B  44      25.346  42.914  54.482  1.00  0.00            \nATOM     33  HB2 GLN B  44      25.914  42.878  56.013  1.00  0.00            \nATOM     34  CG  GLN B  44      24.080  41.930  55.800  1.00  0.00           C\nATOM     35  HG1 GLN B  44      23.687  41.302  55.128  1.00  0.00            \nATOM     36  HG2 GLN B  44      23.523  42.759  55.848  1.00  0.00            \nATOM     37  CD  GLN B  44      24.050  41.230  57.210  1.00  0.00           C\nATOM     38  OE1 GLN B  44      24.800  41.530  58.130  1.00  0.00           O\nATOM     39  NE2 GLN B  44      23.160  40.250  57.500  1.00  0.00           N\nATOM     40 1HE2 GLN B  44      22.500  39.954  56.810  1.00  0.00            \nATOM     41 2HE2 GLN B  44      23.164  39.823  58.404  1.00  0.00            \nATOM     42  C   GLN B  44      27.770  41.670  54.360  1.00  0.00           C\nATOM     43  O   GLN B  44      27.950  41.740  53.130  1.00  0.00           O\nATOM     44  N   ILE B  45      28.750  42.060  55.160  1.00  0.00           N\nATOM     45  H   ILE B  45      28.608  41.937  56.142  1.00  0.00            \nATOM     46  CA  ILE B  45      29.970  42.630  54.760  1.00  0.00           C\nATOM     47  HA  ILE B  45      29.820  42.887  53.805  1.00  0.00            \nATOM     48  CB  ILE B  45      30.250  43.870  55.550  1.00  0.00           C\nATOM     49  HB  ILE B  45      31.176  44.152  55.299  1.00  0.00            \nATOM     50  CG2 ILE B  45      29.050  44.860  55.180  1.00  0.00           C\nATOM     51 1HG2 ILE B  45      29.165  45.722  55.673  1.00  0.00            \nATOM     52 2HG2 ILE B  45      29.055  45.036  54.196  1.00  0.00            \nATOM     53 3HG2 ILE B  45      28.180  44.441  55.440  1.00  0.00            \nATOM     54  CG1 ILE B  45      30.220  43.660  57.120  1.00  0.00           C\nATOM     55 1HG1 ILE B  45      30.744  42.839  57.346  1.00  0.00            \nATOM     56 2HG1 ILE B  45      29.271  43.540  57.411  1.00  0.00            \nATOM     57  CD  ILE B  45      30.790  44.780  57.960  1.00  0.00           C\nATOM     58  HD1 ILE B  45      30.719  44.540  58.928  1.00  0.00            \nATOM     59  HD2 ILE B  45      31.751  44.920  57.721  1.00  0.00            \nATOM     60  HD3 ILE B  45      30.277  45.621  57.787  1.00  0.00            \nATOM     61  C   ILE B  45      31.120  41.600  54.910  1.00  0.00           C\nATOM     62  O   ILE B  45      32.300  41.990  54.920  1.00  0.00           O\nATOM     63  N   LYS B  46      30.780  40.360  55.010  1.00  0.00           N\nATOM     64  H   LYS B  46      29.858  40.084  54.739  1.00  0.00            \nATOM     65  CA  LYS B  46      31.690  39.370  55.500  1.00  0.00           C\nATOM     66  HA  LYS B  46      32.522  39.920  55.576  1.00  0.00            \nATOM     67  CB  LYS B  46      31.320  38.750  56.950  1.00  0.00           C\nATOM     68  HB1 LYS B  46      30.418  38.322  56.887  1.00  0.00            \nATOM     69  HB2 LYS B  46      31.288  39.499  57.612  1.00  0.00            \nATOM     70  CG  LYS B  46      32.230  37.690  57.580  1.00  0.00           C\nATOM     71  HG1 LYS B  46      33.135  38.103  57.682  1.00  0.00            \nATOM     72  HG2 LYS B  46      32.282  36.927  56.936  1.00  0.00            \nATOM     73  CD  LYS B  46      31.800  37.120  58.970  1.00  0.00           C\nATOM     74  HD1 LYS B  46      32.252  36.240  59.115  1.00  0.00            \nATOM     75  HD2 LYS B  46      30.809  36.990  58.976  1.00  0.00            \nATOM     76  CE  LYS B  46      32.160  38.030  60.140  1.00  0.00           C\nATOM     77  HE1 LYS B  46      31.637  38.878  60.052  1.00  0.00            \nATOM     78  HE2 LYS B  46      33.138  38.235  60.091  1.00  0.00            \nATOM     79  NZ  LYS B  46      31.890  37.480  61.500  1.00  0.00           N\nATOM     80  HZ1 LYS B  46      32.160  38.151  62.191  1.00  0.00            \nATOM     81  HZ2 LYS B  46      30.914  37.281  61.592  1.00  0.00            \nATOM     82  HZ3 LYS B  46      32.415  36.639  61.630  1.00  0.00            \nATOM     83  C   LYS B  46      31.880  38.280  54.440  1.00  0.00           C\nATOM     84  O   LYS B  46      32.720  37.380  54.620  1.00  0.00           O\nATOM     85  N   ILE B  47      31.170  38.270  53.350  1.00  0.00           N\nATOM     86  H   ILE B  47      30.600  39.079  53.207  1.00  0.00            \nATOM     87  CA  ILE B  47      31.080  37.240  52.290  1.00  0.00           C\nATOM     88  HA  ILE B  47      31.019  36.452  52.903  1.00  0.00            \nATOM     89  CB  ILE B  47      29.840  37.300  51.340  1.00  0.00           C\nATOM     90  HB  ILE B  47      30.039  37.855  50.532  1.00  0.00            \nATOM     91  CG2 ILE B  47      29.540  35.750  51.010  1.00  0.00           C\nATOM     92 1HG2 ILE B  47      28.751  35.686  50.399  1.00  0.00            \nATOM     93 2HG2 ILE B  47      30.339  35.343  50.567  1.00  0.00            \nATOM     94 3HG2 ILE B  47      29.344  35.260  51.860  1.00  0.00            \nATOM     95  CG1 ILE B  47      28.610  38.100  51.900  1.00  0.00           C\nATOM     96 1HG1 ILE B  47      28.944  38.991  52.208  1.00  0.00            \nATOM     97 2HG1 ILE B  47      28.249  37.591  52.681  1.00  0.00            \nATOM     98  CD  ILE B  47      27.420  38.340  50.860  1.00  0.00           C\nATOM     99  HD1 ILE B  47      26.687  38.854  51.305  1.00  0.00            \nATOM    100  HD2 ILE B  47      27.762  38.858  50.076  1.00  0.00            \nATOM    101  HD3 ILE B  47      27.067  37.458  50.548  1.00  0.00            \nATOM    102  C   ILE B  47      32.300  37.050  51.480  1.00  0.00           C\nATOM    103  O   ILE B  47      32.610  35.910  51.140  1.00  0.00           O\nATOM    104  N   TRP B  48      33.020  38.130  51.110  1.00  0.00           N\nATOM    105  H   TRP B  48      32.623  39.046  51.166  1.00  0.00            \nATOM    106  CA  TRP B  48      34.350  37.950  50.640  1.00  0.00           C\nATOM    107  HA  TRP B  48      34.165  37.375  49.843  1.00  0.00            \nATOM    108  CB  TRP B  48      35.020  39.270  50.210  1.00  0.00           C\nATOM    109  HB1 TRP B  48      35.266  39.797  51.024  1.00  0.00            \nATOM    110  HB2 TRP B  48      34.381  39.799  49.651  1.00  0.00            \nATOM    111  CG  TRP B  48      36.260  39.060  49.410  1.00  0.00           C\nATOM    112  CD1 TRP B  48      36.430  39.190  48.040  1.00  0.00           C\nATOM    113  HD1 TRP B  48      35.692  39.355  47.386  1.00  0.00            \nATOM    114  NE1 TRP B  48      37.750  39.060  47.710  1.00  0.00           N\nATOM    115  HE1 TRP B  48      38.086  39.106  46.769  1.00  0.00            \nATOM    116  CE2 TRP B  48      38.570  38.860  48.790  1.00  0.00           C\nATOM    117  CZ2 TRP B  48      40.010  38.680  48.950  1.00  0.00           C\nATOM    118  HZ2 TRP B  48      40.644  38.693  48.177  1.00  0.00            \nATOM    119  CH2 TRP B  48      40.430  38.490  50.260  1.00  0.00           C\nATOM    120  HH2 TRP B  48      41.400  38.305  50.418  1.00  0.00            \nATOM    121  CZ3 TRP B  48      39.600  38.540  51.350  1.00  0.00           C\nATOM    122  HZ3 TRP B  48      39.975  38.434  52.271  1.00  0.00            \nATOM    123  CE3 TRP B  48      38.220  38.740  51.170  1.00  0.00           C\nATOM    124  HE3 TRP B  48      37.621  38.791  51.969  1.00  0.00            \nATOM    125  CD2 TRP B  48      37.670  38.870  49.880  1.00  0.00           C\nATOM    126  C   TRP B  48      35.210  37.070  51.460  1.00  0.00           C\nATOM    127  O   TRP B  48      35.860  36.130  51.000  1.00  0.00           O\nATOM    128  N   PHE B  49      35.300  37.390  52.780  1.00  0.00           N\nATOM    129  H   PHE B  49      34.696  38.104  53.134  1.00  0.00            \nATOM    130  CA  PHE B  49      36.230  36.750  53.710  1.00  0.00           C\nATOM    131  HA  PHE B  49      37.073  36.834  53.178  1.00  0.00            \nATOM    132  CB  PHE B  49      36.300  37.480  55.090  1.00  0.00           C\nATOM    133  HB1 PHE B  49      36.878  36.970  55.726  1.00  0.00            \nATOM    134  HB2 PHE B  49      35.384  37.580  55.479  1.00  0.00            \nATOM    135  CG  PHE B  49      36.880  38.830  54.920  1.00  0.00           C\nATOM    136  CD1 PHE B  49      35.960  39.890  54.800  1.00  0.00           C\nATOM    137  HD1 PHE B  49      34.977  39.715  54.738  1.00  0.00            \nATOM    138  CE1 PHE B  49      36.460  41.190  54.770  1.00  0.00           C\nATOM    139  HE1 PHE B  49      35.817  41.956  54.785  1.00  0.00            \nATOM    140  CZ  PHE B  49      37.830  41.460  54.720  1.00  0.00           C\nATOM    141  HZ  PHE B  49      38.138  42.406  54.617  1.00  0.00            \nATOM    142  CE2 PHE B  49      38.780  40.440  54.810  1.00  0.00           C\nATOM    143  HE2 PHE B  49      39.761  40.635  54.837  1.00  0.00            \nATOM    144  CD2 PHE B  49      38.290  39.140  54.860  1.00  0.00           C\nATOM    145  HD2 PHE B  49      38.944  38.384  54.854  1.00  0.00            \nATOM    146  C   PHE B  49      35.980  35.270  53.960  1.00  0.00           C\nATOM    147  O   PHE B  49      36.920  34.470  54.120  1.00  0.00           O\nATOM    148  N   GLN B  50      34.670  34.870  54.070  1.00  0.00           N\nATOM    149  H   GLN B  50      33.954  35.567  54.046  1.00  0.00            \nATOM    150  CA  GLN B  50      34.280  33.480  54.220  1.00  0.00           C\nATOM    151  HA  GLN B  50      34.900  33.202  54.954  1.00  0.00            \nATOM    152  CB  GLN B  50      32.770  33.390  54.570  1.00  0.00           C\nATOM    153  HB1 GLN B  50      32.571  32.436  54.794  1.00  0.00            \nATOM    154  HB2 GLN B  50      32.257  33.654  53.753  1.00  0.00            \nATOM    155  CG  GLN B  50      32.280  34.290  55.770  1.00  0.00           C\nATOM    156  HG1 GLN B  50      32.685  35.194  55.635  1.00  0.00            \nATOM    157  HG2 GLN B  50      32.648  33.881  56.605  1.00  0.00            \nATOM    158  CD  GLN B  50      30.730  34.510  56.010  1.00  0.00           C\nATOM    159  OE1 GLN B  50      30.120  35.380  56.660  1.00  0.00           O\nATOM    160  NE2 GLN B  50      30.030  33.680  55.320  1.00  0.00           N\nATOM    161 1HE2 GLN B  50      30.484  33.012  54.731  1.00  0.00            \nATOM    162 2HE2 GLN B  50      29.032  33.703  55.373  1.00  0.00            \nATOM    163  C   GLN B  50      34.530  32.570  52.990  1.00  0.00           C\nATOM    164  O   GLN B  50      35.100  31.490  53.150  1.00  0.00           O\nATOM    165  N   ASN B  51      34.230  33.040  51.810  1.00  0.00           N\nATOM    166  H   ASN B  51      33.822  33.952  51.769  1.00  0.00            \nATOM    167  CA  ASN B  51      34.440  32.350  50.560  1.00  0.00           C\nATOM    168  HA  ASN B  51      33.871  31.529  50.604  1.00  0.00            \nATOM    169  CB  ASN B  51      34.030  33.250  49.390  1.00  0.00           C\nATOM    170  HB1 ASN B  51      34.436  32.882  48.553  1.00  0.00            \nATOM    171  HB2 ASN B  51      34.390  34.168  49.559  1.00  0.00            \nATOM    172  CG  ASN B  51      32.520  33.360  49.180  1.00  0.00           C\nATOM    173  OD1 ASN B  51      31.760  32.710  49.880  1.00  0.00           O\nATOM    174  ND2 ASN B  51      31.990  34.310  48.370  1.00  0.00           N\nATOM    175 1HD2 ASN B  51      32.590  34.955  47.897  1.00  0.00            \nATOM    176 2HD2 ASN B  51      30.999  34.365  48.246  1.00  0.00            \nATOM    177  C   ASN B  51      35.960  32.060  50.410  1.00  0.00           C\nATOM    178  O   ASN B  51      36.360  30.960  50.030  1.00  0.00           O\nATOM    179  N   ARG B  52      36.900  33.060  50.680  1.00  0.00           N\nATOM    180  H   ARG B  52      36.548  33.940  51.000  1.00  0.00            \nATOM    181  CA  ARG B  52      38.320  32.940  50.540  1.00  0.00           C\nATOM    182  HA  ARG B  52      38.490  32.654  49.597  1.00  0.00            \nATOM    183  CB  ARG B  52      38.940  34.310  50.730  1.00  0.00           C\nATOM    184  HB1 ARG B  52      38.581  34.685  51.585  1.00  0.00            \nATOM    185  HB2 ARG B  52      38.643  34.881  49.965  1.00  0.00            \nATOM    186  CG  ARG B  52      40.440  34.410  50.800  1.00  0.00           C\nATOM    187  HG1 ARG B  52      40.780  33.720  51.439  1.00  0.00            \nATOM    188  HG2 ARG B  52      40.688  35.321  51.130  1.00  0.00            \nATOM    189  CD  ARG B  52      41.060  34.180  49.420  1.00  0.00           C\nATOM    190  HD1 ARG B  52      40.620  34.754  48.729  1.00  0.00            \nATOM    191  HD2 ARG B  52      40.989  33.220  49.150  1.00  0.00            \nATOM    192  NE  ARG B  52      42.500  34.570  49.580  1.00  0.00           N\nATOM    193  HE  ARG B  52      42.857  34.879  50.462  1.00  0.00            \nATOM    194  CZ  ARG B  52      43.300  34.490  48.490  1.00  0.00           C\nATOM    195  NH1 ARG B  52      43.150  33.450  47.660  1.00  0.00           N\nATOM    196 1HH1 ARG B  52      42.459  32.753  47.851  1.00  0.00            \nATOM    197 2HH1 ARG B  52      43.729  33.370  46.849  1.00  0.00            \nATOM    198  NH2 ARG B  52      44.360  35.280  48.360  1.00  0.00           N\nATOM    199 1HH2 ARG B  52      44.577  35.946  49.073  1.00  0.00            \nATOM    200 2HH2 ARG B  52      44.941  35.208  47.549  1.00  0.00            \nATOM    201  C   ARG B  52      38.900  31.820  51.430  1.00  0.00           C\nATOM    202  O   ARG B  52      39.850  31.100  51.070  1.00  0.00           O\nATOM    203  N   ARG B  53      38.330  31.630  52.640  1.00  0.00           N\nATOM    204  H   ARG B  53      37.533  32.196  52.851  1.00  0.00            \nATOM    205  CA  ARG B  53      38.750  30.690  53.670  1.00  0.00           C\nATOM    206  HA  ARG B  53      39.739  30.834  53.692  1.00  0.00            \nATOM    207  CB  ARG B  53      38.160  30.950  55.120  1.00  0.00           C\nATOM    208  HB1 ARG B  53      38.048  30.079  55.598  1.00  0.00            \nATOM    209  HB2 ARG B  53      37.273  31.405  55.045  1.00  0.00            \nATOM    210  CG  ARG B  53      39.060  31.830  55.970  1.00  0.00           C\nATOM    211  HG1 ARG B  53      39.116  32.707  55.493  1.00  0.00            \nATOM    212  HG2 ARG B  53      39.958  31.390  55.966  1.00  0.00            \nATOM    213  CD  ARG B  53      38.650  32.110  57.480  1.00  0.00           C\nATOM    214  HD1 ARG B  53      39.251  32.788  57.904  1.00  0.00            \nATOM    215  HD2 ARG B  53      38.657  31.271  58.024  1.00  0.00            \nATOM    216  NE  ARG B  53      37.260  32.650  57.430  1.00  0.00           N\nATOM    217  HE  ARG B  53      36.523  31.986  57.302  1.00  0.00            \nATOM    218  CZ  ARG B  53      36.900  33.940  57.540  1.00  0.00           C\nATOM    219  NH1 ARG B  53      37.870  34.880  57.590  1.00  0.00           N\nATOM    220 1HH1 ARG B  53      38.832  34.609  57.545  1.00  0.00            \nATOM    221 2HH1 ARG B  53      37.626  35.846  57.672  1.00  0.00            \nATOM    222  NH2 ARG B  53      35.740  34.390  57.980  1.00  0.00           N\nATOM    223 1HH2 ARG B  53      35.032  33.747  58.270  1.00  0.00            \nATOM    224 2HH2 ARG B  53      35.570  35.374  58.023  1.00  0.00            \nATOM    225  C   ARG B  53      38.390  29.290  53.220  1.00  0.00           C\nATOM    226  O   ARG B  53      39.190  28.350  53.090  1.00  0.00           O\nATOM    227  N   MET B  54      37.140  29.210  52.660  1.00  0.00           N\nATOM    228  H   MET B  54      36.601  30.052  52.689  1.00  0.00            \nATOM    229  CA  MET B  54      36.490  28.070  52.030  1.00  0.00           C\nATOM    230  HA  MET B  54      36.652  27.380  52.736  1.00  0.00            \nATOM    231  CB  MET B  54      34.940  28.240  51.820  1.00  0.00           C\nATOM    232  HB1 MET B  54      34.589  27.463  51.298  1.00  0.00            \nATOM    233  HB2 MET B  54      34.764  29.086  51.317  1.00  0.00            \nATOM    234  CG  MET B  54      34.150  28.310  53.090  1.00  0.00           C\nATOM    235  HG1 MET B  54      34.412  29.196  53.473  1.00  0.00            \nATOM    236  HG2 MET B  54      34.545  27.577  53.644  1.00  0.00            \nATOM    237  SD  MET B  54      32.330  28.140  52.890  1.00  0.00           S\nATOM    238  CE  MET B  54      31.940  29.850  52.650  1.00  0.00           C\nATOM    239  HE1 MET B  54      30.954  29.952  52.520  1.00  0.00            \nATOM    240  HE2 MET B  54      32.226  30.373  53.453  1.00  0.00            \nATOM    241  HE3 MET B  54      32.420  30.191  51.842  1.00  0.00            \nATOM    242  C   MET B  54      37.190  27.610  50.740  1.00  0.00           C\nATOM    243  O   MET B  54      37.370  26.400  50.570  1.00  0.00           O\nATOM    244  N   LYS B  55      37.780  28.460  49.920  1.00  0.00           N\nATOM    245  H   LYS B  55      37.657  29.433  50.115  1.00  0.00            \nATOM    246  CA  LYS B  55      38.620  28.110  48.720  1.00  0.00           C\nATOM    247  HA  LYS B  55      38.172  27.384  48.198  1.00  0.00            \nATOM    248  CB  LYS B  55      38.740  29.360  47.790  1.00  0.00           C\nATOM    249  HB1 LYS B  55      39.525  29.898  48.098  1.00  0.00            \nATOM    250  HB2 LYS B  55      37.905  29.900  47.892  1.00  0.00            \nATOM    251  CG  LYS B  55      38.930  29.110  46.290  1.00  0.00           C\nATOM    252  HG1 LYS B  55      39.783  28.618  46.118  1.00  0.00            \nATOM    253  HG2 LYS B  55      38.936  29.973  45.785  1.00  0.00            \nATOM    254  CD  LYS B  55      37.800  28.290  45.830  1.00  0.00           C\nATOM    255  HD1 LYS B  55      36.962  28.683  46.209  1.00  0.00            \nATOM    256  HD2 LYS B  55      37.927  27.365  46.189  1.00  0.00            \nATOM    257  CE  LYS B  55      37.740  28.270  44.260  1.00  0.00           C\nATOM    258  HE1 LYS B  55      37.614  29.197  43.906  1.00  0.00            \nATOM    259  HE2 LYS B  55      36.988  27.689  43.949  1.00  0.00            \nATOM    260  NZ  LYS B  55      38.950  27.750  43.650  1.00  0.00           N\nATOM    261  HZ1 LYS B  55      38.853  27.762  42.655  1.00  0.00            \nATOM    262  HZ2 LYS B  55      39.728  28.319  43.916  1.00  0.00            \nATOM    263  HZ3 LYS B  55      39.102  26.811  43.959  1.00  0.00            \nATOM    264  C   LYS B  55      40.000  27.580  49.220  1.00  0.00           C\nATOM    265  O   LYS B  55      40.660  26.820  48.540  1.00  0.00           O\nATOM    266  N   TRP B  56      40.440  27.960  50.460  1.00  0.00           N\nATOM    267  H   TRP B  56      39.881  28.547  51.045  1.00  0.00            \nATOM    268  CA  TRP B  56      41.790  27.470  50.920  1.00  0.00           C\nATOM    269  HA  TRP B  56      42.308  27.420  50.066  1.00  0.00            \nATOM    270  CB  TRP B  56      42.370  28.410  52.010  1.00  0.00           C\nATOM    271  HB1 TRP B  56      41.784  28.355  52.818  1.00  0.00            \nATOM    272  HB2 TRP B  56      42.362  29.345  51.656  1.00  0.00            \nATOM    273  CG  TRP B  56      43.760  28.150  52.480  1.00  0.00           C\nATOM    274  CD1 TRP B  56      44.880  27.610  51.870  1.00  0.00           C\nATOM    275  HD1 TRP B  56      44.929  27.304  50.919  1.00  0.00            \nATOM    276  NE1 TRP B  56      45.910  27.560  52.770  1.00  0.00           N\nATOM    277  HE1 TRP B  56      46.830  27.210  52.594  1.00  0.00            \nATOM    278  CE2 TRP B  56      45.460  28.070  53.940  1.00  0.00           C\nATOM    279  CZ2 TRP B  56      46.050  28.130  55.190  1.00  0.00           C\nATOM    280  HZ2 TRP B  56      46.954  27.721  55.317  1.00  0.00            \nATOM    281  CH2 TRP B  56      45.440  28.730  56.260  1.00  0.00           C\nATOM    282  HH2 TRP B  56      45.940  28.853  57.117  1.00  0.00            \nATOM    283  CZ3 TRP B  56      44.090  29.180  56.150  1.00  0.00           C\nATOM    284  HZ3 TRP B  56      43.652  29.656  56.913  1.00  0.00            \nATOM    285  CE3 TRP B  56      43.390  28.950  54.970  1.00  0.00           C\nATOM    286  HE3 TRP B  56      42.406  29.117  54.903  1.00  0.00            \nATOM    287  CD2 TRP B  56      44.150  28.460  53.850  1.00  0.00           C\nATOM    288  C   TRP B  56      41.730  26.120  51.660  1.00  0.00           C\nATOM    289  O   TRP B  56      42.480  25.160  51.500  1.00  0.00           O\nATOM    290  N   LYS B  57      40.610  25.950  52.470  1.00  0.00           N\nATOM    291  H   LYS B  57      39.829  26.558  52.328  1.00  0.00            \nATOM    292  CA  LYS B  57      40.510  24.920  53.530  1.00  0.00           C\nATOM    293  HA  LYS B  57      40.927  24.127  53.086  1.00  0.00            \nATOM    294  CB  LYS B  57      41.220  25.380  54.870  1.00  0.00           C\nATOM    295  HB1 LYS B  57      40.853  24.835  55.623  1.00  0.00            \nATOM    296  HB2 LYS B  57      41.008  26.345  55.023  1.00  0.00            \nATOM    297  CG  LYS B  57      42.800  25.210  54.850  1.00  0.00           C\nATOM    298  HG1 LYS B  57      43.221  25.951  54.327  1.00  0.00            \nATOM    299  HG2 LYS B  57      43.048  24.331  54.442  1.00  0.00            \nATOM    300  CD  LYS B  57      43.310  25.260  56.320  1.00  0.00           C\nATOM    301  HD1 LYS B  57      42.831  24.545  56.830  1.00  0.00            \nATOM    302  HD2 LYS B  57      43.067  26.155  56.693  1.00  0.00            \nATOM    303  CE  LYS B  57      44.900  25.040  56.470  1.00  0.00           C\nATOM    304  HE1 LYS B  57      45.252  25.470  57.301  1.00  0.00            \nATOM    305  HE2 LYS B  57      45.395  25.394  55.676  1.00  0.00            \nATOM    306  NZ  LYS B  57      45.140  23.570  56.560  1.00  0.00           N\nATOM    307  HZ1 LYS B  57      46.120  23.397  56.654  1.00  0.00            \nATOM    308  HZ2 LYS B  57      44.659  23.202  57.356  1.00  0.00            \nATOM    309  HZ3 LYS B  57      44.802  23.126  55.731  1.00  0.00            \nATOM    310  C   LYS B  57      39.090  24.590  53.900  1.00  0.00           C\nATOM    311  O   LYS B  57      38.160  25.400  53.690  1.00  0.00           O\nATOM    312  N   LYS B  58      38.750  23.390  54.280  1.00  0.00           N\nATOM    313  H   LYS B  58      39.495  22.756  54.484  1.00  0.00            \nATOM    314  CA  LYS B  58      37.370  22.870  54.440  1.00  0.00           C\nATOM    315  HA  LYS B  58      36.825  23.518  53.908  1.00  0.00            \nATOM    316  CB  LYS B  58      37.220  21.370  53.950  1.00  0.00           C\nATOM    317  HB1 LYS B  58      37.786  20.786  54.532  1.00  0.00            \nATOM    318  HB2 LYS B  58      37.540  21.309  53.004  1.00  0.00            \nATOM    319  CG  LYS B  58      35.780  20.810  53.990  1.00  0.00           C\nATOM    320  HG1 LYS B  58      35.207  21.359  53.382  1.00  0.00            \nATOM    321  HG2 LYS B  58      35.436  20.880  54.926  1.00  0.00            \nATOM    322  CD  LYS B  58      35.570  19.420  53.590  1.00  0.00           C\nATOM    323  HD1 LYS B  58      35.981  18.841  54.295  1.00  0.00            \nATOM    324  HD2 LYS B  58      36.051  19.283  52.724  1.00  0.00            \nATOM    325  CE  LYS B  58      34.090  19.050  53.420  1.00  0.00           C\nATOM    326  HE1 LYS B  58      34.010  18.252  52.822  1.00  0.00            \nATOM    327  HE2 LYS B  58      33.596  19.820  53.016  1.00  0.00            \nATOM    328  NZ  LYS B  58      33.440  18.720  54.700  1.00  0.00           N\nATOM    329  HZ1 LYS B  58      32.481  18.487  54.537  1.00  0.00            \nATOM    330  HZ2 LYS B  58      33.906  17.941  55.119  1.00  0.00            \nATOM    331  HZ3 LYS B  58      33.492  19.508  55.313  1.00  0.00            \nATOM    332  C   LYS B  58      36.990  22.840  55.920  1.00  0.00           C\nATOM    333  OC1 LYS B  58      37.830  22.510  56.790  1.00  0.00           O\nATOM    334  OC2 LYS B  58      35.880  23.270  56.280  1.00  0.00           O\nTER\nENDMDL\n",
                    "binary": false
                  }
                ],
                "kwargs": {
                  "ext": "pdb",
                  "defaultRepresentation": true
                }
              }
            ],
            "_ngl_original_stage_parameters": {},
            "_ngl_repr_dict": {},
            "_ngl_serialize": false,
            "_ngl_version": "",
            "_ngl_view_id": [],
            "_player_dict": {},
            "_scene_position": {},
            "_scene_rotation": {},
            "_synced_model_ids": [],
            "_synced_repr_model_ids": [],
            "_view_count": null,
            "_view_height": "",
            "_view_module": "nglview-js-widgets",
            "_view_module_version": "3.1.4",
            "_view_name": "NGLView",
            "_view_width": "",
            "background": "white",
            "frame": 0,
            "gui_style": null,
            "layout": "IPY_MODEL_5581b343095745b1b5118debcd3fd829",
            "max_frame": 0,
            "n_components": 0,
            "picked": {},
            "tabbable": null,
            "tooltip": null
          }
        },
        "dd29eef47c8f47b7b710b521de7b776f": {
          "model_module": "@jupyter-widgets/base",
          "model_name": "LayoutModel",
          "model_module_version": "2.0.0",
          "state": {
            "_model_module": "@jupyter-widgets/base",
            "_model_module_version": "2.0.0",
            "_model_name": "LayoutModel",
            "_view_count": null,
            "_view_module": "@jupyter-widgets/base",
            "_view_module_version": "2.0.0",
            "_view_name": "LayoutView",
            "align_content": null,
            "align_items": null,
            "align_self": null,
            "border_bottom": null,
            "border_left": null,
            "border_right": null,
            "border_top": null,
            "bottom": null,
            "display": null,
            "flex": null,
            "flex_flow": null,
            "grid_area": null,
            "grid_auto_columns": null,
            "grid_auto_flow": null,
            "grid_auto_rows": null,
            "grid_column": null,
            "grid_gap": null,
            "grid_row": null,
            "grid_template_areas": null,
            "grid_template_columns": null,
            "grid_template_rows": null,
            "height": null,
            "justify_content": null,
            "justify_items": null,
            "left": null,
            "margin": null,
            "max_height": null,
            "max_width": null,
            "min_height": null,
            "min_width": null,
            "object_fit": null,
            "object_position": null,
            "order": null,
            "overflow": null,
            "padding": null,
            "right": null,
            "top": null,
            "visibility": null,
            "width": "34px"
          }
        },
        "f23f4613373a4559be2ecf7e862441a4": {
          "model_module": "@jupyter-widgets/controls",
          "model_name": "ButtonStyleModel",
          "model_module_version": "2.0.0",
          "state": {
            "_model_module": "@jupyter-widgets/controls",
            "_model_module_version": "2.0.0",
            "_model_name": "ButtonStyleModel",
            "_view_count": null,
            "_view_module": "@jupyter-widgets/base",
            "_view_module_version": "2.0.0",
            "_view_name": "StyleView",
            "button_color": null,
            "font_family": null,
            "font_size": null,
            "font_style": null,
            "font_variant": null,
            "font_weight": null,
            "text_color": null,
            "text_decoration": null
          }
        }
      }
    }
  },
  "nbformat": 4,
  "nbformat_minor": 0
}